{
  "cells": [
    {
      "cell_type": "markdown",
      "metadata": {
        "id": "view-in-github",
        "colab_type": "text"
      },
      "source": [
        "<a href=\"https://colab.research.google.com/github/Lorenzomoglia/Notebooks/blob/main/RAG.ipynb\" target=\"_parent\"><img src=\"https://colab.research.google.com/assets/colab-badge.svg\" alt=\"Open In Colab\"/></a>"
      ]
    },
    {
      "cell_type": "markdown",
      "metadata": {
        "id": "jAfXWGrbubhm"
      },
      "source": [
        "# COSA E' UN CHATBOT RAG E COME FUNZIONA\n",
        "### Edizione PTMP\n",
        "##### (PocaTeoria MoltaPratica)"
      ]
    },
    {
      "cell_type": "markdown",
      "metadata": {
        "id": "AJgKHBIBubhn"
      },
      "source": [
        "Un modello di intelligenza artificiale generativa ha una vasta conoscenza generale ereditata dalle fonti che sono state utilizzate per allenarlo.\n",
        "\n",
        "Se vogliamo \"insegnare\" ad un modello generativo qualcosa che integri la sua conoscenza generale, possiamo seguire due strade:\n",
        "\n",
        "- Fine Tuning : creiamo un dataset di Fine Tuning, e ri alleniamo il modello di GenAI su questi dati. Presenta pregi e difetti. Ne parliamo in un altro notebook.\n",
        "\n",
        "- Retrieve and Generate : forniamo al modello le informazioni complementari direttamente durante l'inferenza. E' il paradigma che affronteremo in questo notebook."
      ]
    },
    {
      "cell_type": "markdown",
      "metadata": {
        "id": "2m46C7xJubho"
      },
      "source": [
        "## FASE 1 : \"RETRIEVE\""
      ]
    },
    {
      "cell_type": "code",
      "execution_count": null,
      "metadata": {
        "id": "WeeHxErHubhp",
        "outputId": "91e237d8-ac76-4618-dee1-c83f5843a27e"
      },
      "outputs": [
        {
          "data": {
            "text/plain": [
              "True"
            ]
          },
          "execution_count": 1,
          "metadata": {},
          "output_type": "execute_result"
        }
      ],
      "source": [
        "# importo dipendenze e variabili d'ambiente\n",
        "\n",
        "import pandas as pd\n",
        "import numpy as np\n",
        "from ast import literal_eval\n",
        "from openai import OpenAI\n",
        "from dotenv import load_dotenv\n",
        "import os\n",
        "load_dotenv()"
      ]
    },
    {
      "cell_type": "markdown",
      "metadata": {
        "id": "6o8ZJypFubhq"
      },
      "source": [
        "### Questa è la base di conoscenza di produzione di LIA."
      ]
    },
    {
      "cell_type": "code",
      "execution_count": null,
      "metadata": {
        "id": "vCNAC1dRubhr",
        "outputId": "2fb57020-d4e6-4e2d-86b9-908dab3bb26d"
      },
      "outputs": [
        {
          "data": {
            "text/html": [
              "<div>\n",
              "<style scoped>\n",
              "    .dataframe tbody tr th:only-of-type {\n",
              "        vertical-align: middle;\n",
              "    }\n",
              "\n",
              "    .dataframe tbody tr th {\n",
              "        vertical-align: top;\n",
              "    }\n",
              "\n",
              "    .dataframe thead th {\n",
              "        text-align: right;\n",
              "    }\n",
              "</style>\n",
              "<table border=\"1\" class=\"dataframe\">\n",
              "  <thead>\n",
              "    <tr style=\"text-align: right;\">\n",
              "      <th></th>\n",
              "      <th>text</th>\n",
              "      <th>title</th>\n",
              "      <th>n_tokens</th>\n",
              "      <th>embeddings</th>\n",
              "    </tr>\n",
              "  </thead>\n",
              "  <tbody>\n",
              "    <tr>\n",
              "      <th>0</th>\n",
              "      <td>In TAS, siamo al centro della rivoluzione del ...</td>\n",
              "      <td>Banking 100</td>\n",
              "      <td>176</td>\n",
              "      <td>[-0.009273371659219265, -0.004997427109628916,...</td>\n",
              "    </tr>\n",
              "    <tr>\n",
              "      <th>1</th>\n",
              "      <td>La nostra piattaforma \"Bills Presentment and P...</td>\n",
              "      <td>Bills Presentment And Payments 100</td>\n",
              "      <td>168</td>\n",
              "      <td>[-0.02100216969847679, -0.007880852557718754, ...</td>\n",
              "    </tr>\n",
              "    <tr>\n",
              "      <th>2</th>\n",
              "      <td>La trasformazione delle filiali bancarie è cru...</td>\n",
              "      <td>Branch Transformation 100</td>\n",
              "      <td>240</td>\n",
              "      <td>[-0.01851186342537403, -0.022544948384165764, ...</td>\n",
              "    </tr>\n",
              "    <tr>\n",
              "      <th>3</th>\n",
              "      <td>Nel mondo dei pagamenti, offriamo soluzioni di...</td>\n",
              "      <td>Card Issuing And Processing 100</td>\n",
              "      <td>301</td>\n",
              "      <td>[-0.005936944857239723, -0.000712500128429383,...</td>\n",
              "    </tr>\n",
              "    <tr>\n",
              "      <th>4</th>\n",
              "      <td>Siamo una Fintech specializzata in soluzioni s...</td>\n",
              "      <td>Chi Siamo 100</td>\n",
              "      <td>201</td>\n",
              "      <td>[0.012219080701470375, -0.012353061698377132, ...</td>\n",
              "    </tr>\n",
              "    <tr>\n",
              "      <th>5</th>\n",
              "      <td>Indirizzo mail per informazioni sui prodotti T...</td>\n",
              "      <td>Contacts</td>\n",
              "      <td>493</td>\n",
              "      <td>[-0.0047997706569731236, -0.00310545158572495,...</td>\n",
              "    </tr>\n",
              "    <tr>\n",
              "      <th>6</th>\n",
              "      <td>In TAS, supportiamo aziende del mondo Corporat...</td>\n",
              "      <td>Corporate 100</td>\n",
              "      <td>218</td>\n",
              "      <td>[0.011922354809939861, -0.022223806008696556, ...</td>\n",
              "    </tr>\n",
              "    <tr>\n",
              "      <th>7</th>\n",
              "      <td>L'Extended Enterprise è fondamentale nell'era ...</td>\n",
              "      <td>Extended Enterprise 100</td>\n",
              "      <td>280</td>\n",
              "      <td>[0.0034048997331410646, -0.02020329236984253, ...</td>\n",
              "    </tr>\n",
              "    <tr>\n",
              "      <th>8</th>\n",
              "      <td>Le nostre soluzioni di Financial Network Conne...</td>\n",
              "      <td>Financial Networks Connectivity 100</td>\n",
              "      <td>248</td>\n",
              "      <td>[-0.014843475073575974, -0.0016309183556586504...</td>\n",
              "    </tr>\n",
              "    <tr>\n",
              "      <th>9</th>\n",
              "      <td>In TAS, supportiamo Fintech innovative come Pa...</td>\n",
              "      <td>Fintech 100</td>\n",
              "      <td>264</td>\n",
              "      <td>[0.003948881756514311, -0.0030905017629265785,...</td>\n",
              "    </tr>\n",
              "    <tr>\n",
              "      <th>10</th>\n",
              "      <td>In un'era digitale in rapida evoluzione, la ge...</td>\n",
              "      <td>Fraud Management 100</td>\n",
              "      <td>292</td>\n",
              "      <td>[-0.011561820283532143, -0.009850455448031425,...</td>\n",
              "    </tr>\n",
              "    <tr>\n",
              "      <th>11</th>\n",
              "      <td>La Global Payment Platform (GPP) di TAS è una ...</td>\n",
              "      <td>Global Payment Platform 100</td>\n",
              "      <td>276</td>\n",
              "      <td>[-0.014539182186126709, -0.00954586174339056, ...</td>\n",
              "    </tr>\n",
              "    <tr>\n",
              "      <th>12</th>\n",
              "      <td>In TAS, sviluppiamo soluzioni per l'evoluzione...</td>\n",
              "      <td>Home Page 100</td>\n",
              "      <td>157</td>\n",
              "      <td>[0.00163066026289016, -0.00018430675845593214,...</td>\n",
              "    </tr>\n",
              "    <tr>\n",
              "      <th>13</th>\n",
              "      <td>\"OmniChannel Payments Acceptance\" è una piatta...</td>\n",
              "      <td>Omnichannel Payments Acceptance 100</td>\n",
              "      <td>243</td>\n",
              "      <td>[-0.011101389303803444, -0.014862908981740475,...</td>\n",
              "    </tr>\n",
              "    <tr>\n",
              "      <th>14</th>\n",
              "      <td>In TAS, valorizziamo le persone, la loro compe...</td>\n",
              "      <td>Pagina HR 100</td>\n",
              "      <td>201</td>\n",
              "      <td>[0.004001062363386154, -0.013946942053735256, ...</td>\n",
              "    </tr>\n",
              "    <tr>\n",
              "      <th>15</th>\n",
              "      <td>L'era PSD2 stimola innovazione e competizione ...</td>\n",
              "      <td>PSD2 100</td>\n",
              "      <td>235</td>\n",
              "      <td>[-0.009164921008050442, -0.010233934968709946,...</td>\n",
              "    </tr>\n",
              "    <tr>\n",
              "      <th>16</th>\n",
              "      <td>In TAS, supportiamo la trasformazione digitale...</td>\n",
              "      <td>Pubblica Amministrazione 100</td>\n",
              "      <td>327</td>\n",
              "      <td>[0.004549538251012564, 0.0082161296159029, 0.0...</td>\n",
              "    </tr>\n",
              "    <tr>\n",
              "      <th>17</th>\n",
              "      <td>Aquarius è un sistema avanzato di gestione del...</td>\n",
              "      <td>Real Time Liquidity 100</td>\n",
              "      <td>177</td>\n",
              "      <td>[-0.010432935319840908, -0.007193757686764002,...</td>\n",
              "    </tr>\n",
              "    <tr>\n",
              "      <th>18</th>\n",
              "      <td>Il Parlamento Europeo ha recentemente approvat...</td>\n",
              "      <td>Real Time Payments 100</td>\n",
              "      <td>331</td>\n",
              "      <td>[-0.015886729583144188, -0.002333404030650854,...</td>\n",
              "    </tr>\n",
              "    <tr>\n",
              "      <th>19</th>\n",
              "      <td>ciao! ciao ceu salve buondì ciaoooo buongiorno...</td>\n",
              "      <td>Saluti e Formalità</td>\n",
              "      <td>396</td>\n",
              "      <td>[-0.02119011990725994, 0.015528937801718712, -...</td>\n",
              "    </tr>\n",
              "    <tr>\n",
              "      <th>20</th>\n",
              "      <td>TPPay è un Istituto di Moneta Elettronica (IME...</td>\n",
              "      <td>TPPay 100</td>\n",
              "      <td>176</td>\n",
              "      <td>[-0.024490198120474815, -0.017539922147989273,...</td>\n",
              "    </tr>\n",
              "  </tbody>\n",
              "</table>\n",
              "</div>"
            ],
            "text/plain": [
              "                                                 text  \\\n",
              "0   In TAS, siamo al centro della rivoluzione del ...   \n",
              "1   La nostra piattaforma \"Bills Presentment and P...   \n",
              "2   La trasformazione delle filiali bancarie è cru...   \n",
              "3   Nel mondo dei pagamenti, offriamo soluzioni di...   \n",
              "4   Siamo una Fintech specializzata in soluzioni s...   \n",
              "5   Indirizzo mail per informazioni sui prodotti T...   \n",
              "6   In TAS, supportiamo aziende del mondo Corporat...   \n",
              "7   L'Extended Enterprise è fondamentale nell'era ...   \n",
              "8   Le nostre soluzioni di Financial Network Conne...   \n",
              "9   In TAS, supportiamo Fintech innovative come Pa...   \n",
              "10  In un'era digitale in rapida evoluzione, la ge...   \n",
              "11  La Global Payment Platform (GPP) di TAS è una ...   \n",
              "12  In TAS, sviluppiamo soluzioni per l'evoluzione...   \n",
              "13  \"OmniChannel Payments Acceptance\" è una piatta...   \n",
              "14  In TAS, valorizziamo le persone, la loro compe...   \n",
              "15  L'era PSD2 stimola innovazione e competizione ...   \n",
              "16  In TAS, supportiamo la trasformazione digitale...   \n",
              "17  Aquarius è un sistema avanzato di gestione del...   \n",
              "18  Il Parlamento Europeo ha recentemente approvat...   \n",
              "19  ciao! ciao ceu salve buondì ciaoooo buongiorno...   \n",
              "20  TPPay è un Istituto di Moneta Elettronica (IME...   \n",
              "\n",
              "                                  title  n_tokens  \\\n",
              "0                           Banking 100       176   \n",
              "1    Bills Presentment And Payments 100       168   \n",
              "2             Branch Transformation 100       240   \n",
              "3       Card Issuing And Processing 100       301   \n",
              "4                         Chi Siamo 100       201   \n",
              "5                              Contacts       493   \n",
              "6                         Corporate 100       218   \n",
              "7               Extended Enterprise 100       280   \n",
              "8   Financial Networks Connectivity 100       248   \n",
              "9                           Fintech 100       264   \n",
              "10                 Fraud Management 100       292   \n",
              "11          Global Payment Platform 100       276   \n",
              "12                        Home Page 100       157   \n",
              "13  Omnichannel Payments Acceptance 100       243   \n",
              "14                        Pagina HR 100       201   \n",
              "15                             PSD2 100       235   \n",
              "16         Pubblica Amministrazione 100       327   \n",
              "17              Real Time Liquidity 100       177   \n",
              "18               Real Time Payments 100       331   \n",
              "19                   Saluti e Formalità       396   \n",
              "20                            TPPay 100       176   \n",
              "\n",
              "                                           embeddings  \n",
              "0   [-0.009273371659219265, -0.004997427109628916,...  \n",
              "1   [-0.02100216969847679, -0.007880852557718754, ...  \n",
              "2   [-0.01851186342537403, -0.022544948384165764, ...  \n",
              "3   [-0.005936944857239723, -0.000712500128429383,...  \n",
              "4   [0.012219080701470375, -0.012353061698377132, ...  \n",
              "5   [-0.0047997706569731236, -0.00310545158572495,...  \n",
              "6   [0.011922354809939861, -0.022223806008696556, ...  \n",
              "7   [0.0034048997331410646, -0.02020329236984253, ...  \n",
              "8   [-0.014843475073575974, -0.0016309183556586504...  \n",
              "9   [0.003948881756514311, -0.0030905017629265785,...  \n",
              "10  [-0.011561820283532143, -0.009850455448031425,...  \n",
              "11  [-0.014539182186126709, -0.00954586174339056, ...  \n",
              "12  [0.00163066026289016, -0.00018430675845593214,...  \n",
              "13  [-0.011101389303803444, -0.014862908981740475,...  \n",
              "14  [0.004001062363386154, -0.013946942053735256, ...  \n",
              "15  [-0.009164921008050442, -0.010233934968709946,...  \n",
              "16  [0.004549538251012564, 0.0082161296159029, 0.0...  \n",
              "17  [-0.010432935319840908, -0.007193757686764002,...  \n",
              "18  [-0.015886729583144188, -0.002333404030650854,...  \n",
              "19  [-0.02119011990725994, 0.015528937801718712, -...  \n",
              "20  [-0.024490198120474815, -0.017539922147989273,...  "
            ]
          },
          "execution_count": 2,
          "metadata": {},
          "output_type": "execute_result"
        }
      ],
      "source": [
        "df = pd.read_csv(\"data\\embeddings\\embeddings_100.csv\", index_col=0)         # carico il csv e lo rendo un dataframe\n",
        "df['embeddings'] = df['embeddings'].apply(literal_eval).apply(np.array)     # passo gli embeddings da stringa a array\n",
        "df                                                                          # visualizzo il dataframe"
      ]
    },
    {
      "cell_type": "markdown",
      "metadata": {
        "id": "PffsAfmZubhr"
      },
      "source": [
        "### Osserviamo come un \"embedding\" sia effettivamente un array di 1536 floats."
      ]
    },
    {
      "cell_type": "code",
      "execution_count": null,
      "metadata": {
        "id": "WqatbXIYubhs",
        "outputId": "2c1e5182-1025-443a-b913-adf6d63721fd"
      },
      "outputs": [
        {
          "name": "stdout",
          "output_type": "stream",
          "text": [
            "Tipo: <class 'numpy.ndarray'>\n",
            "Lunghezza: 1536\n"
          ]
        }
      ],
      "source": [
        "embs = [emb for emb in df.embeddings]\n",
        "print(\"Tipo:\", type(embs[0]))\n",
        "print(\"Lunghezza:\", len(embs[0]))\n"
      ]
    },
    {
      "cell_type": "markdown",
      "metadata": {
        "id": "A9qty9Utubhs"
      },
      "source": [
        "### Ora teniamo soltanto le parti che ci servono: colonne title, text e embeddings."
      ]
    },
    {
      "cell_type": "code",
      "execution_count": null,
      "metadata": {
        "id": "9iPbCbj7ubhs"
      },
      "outputs": [],
      "source": [
        "df = df[[\"title\", \"text\", \"embeddings\"]]"
      ]
    },
    {
      "cell_type": "code",
      "execution_count": null,
      "metadata": {
        "id": "m4FgzjfBubht",
        "outputId": "d33875b0-5279-4672-861c-2d561f516652"
      },
      "outputs": [
        {
          "data": {
            "text/html": [
              "<div>\n",
              "<style scoped>\n",
              "    .dataframe tbody tr th:only-of-type {\n",
              "        vertical-align: middle;\n",
              "    }\n",
              "\n",
              "    .dataframe tbody tr th {\n",
              "        vertical-align: top;\n",
              "    }\n",
              "\n",
              "    .dataframe thead th {\n",
              "        text-align: right;\n",
              "    }\n",
              "</style>\n",
              "<table border=\"1\" class=\"dataframe\">\n",
              "  <thead>\n",
              "    <tr style=\"text-align: right;\">\n",
              "      <th></th>\n",
              "      <th>title</th>\n",
              "      <th>text</th>\n",
              "      <th>embeddings</th>\n",
              "    </tr>\n",
              "  </thead>\n",
              "  <tbody>\n",
              "    <tr>\n",
              "      <th>0</th>\n",
              "      <td>Banking 100</td>\n",
              "      <td>In TAS, siamo al centro della rivoluzione del ...</td>\n",
              "      <td>[-0.009273371659219265, -0.004997427109628916,...</td>\n",
              "    </tr>\n",
              "    <tr>\n",
              "      <th>1</th>\n",
              "      <td>Bills Presentment And Payments 100</td>\n",
              "      <td>La nostra piattaforma \"Bills Presentment and P...</td>\n",
              "      <td>[-0.02100216969847679, -0.007880852557718754, ...</td>\n",
              "    </tr>\n",
              "    <tr>\n",
              "      <th>2</th>\n",
              "      <td>Branch Transformation 100</td>\n",
              "      <td>La trasformazione delle filiali bancarie è cru...</td>\n",
              "      <td>[-0.01851186342537403, -0.022544948384165764, ...</td>\n",
              "    </tr>\n",
              "    <tr>\n",
              "      <th>3</th>\n",
              "      <td>Card Issuing And Processing 100</td>\n",
              "      <td>Nel mondo dei pagamenti, offriamo soluzioni di...</td>\n",
              "      <td>[-0.005936944857239723, -0.000712500128429383,...</td>\n",
              "    </tr>\n",
              "    <tr>\n",
              "      <th>4</th>\n",
              "      <td>Chi Siamo 100</td>\n",
              "      <td>Siamo una Fintech specializzata in soluzioni s...</td>\n",
              "      <td>[0.012219080701470375, -0.012353061698377132, ...</td>\n",
              "    </tr>\n",
              "    <tr>\n",
              "      <th>5</th>\n",
              "      <td>Contacts</td>\n",
              "      <td>Indirizzo mail per informazioni sui prodotti T...</td>\n",
              "      <td>[-0.0047997706569731236, -0.00310545158572495,...</td>\n",
              "    </tr>\n",
              "    <tr>\n",
              "      <th>6</th>\n",
              "      <td>Corporate 100</td>\n",
              "      <td>In TAS, supportiamo aziende del mondo Corporat...</td>\n",
              "      <td>[0.011922354809939861, -0.022223806008696556, ...</td>\n",
              "    </tr>\n",
              "    <tr>\n",
              "      <th>7</th>\n",
              "      <td>Extended Enterprise 100</td>\n",
              "      <td>L'Extended Enterprise è fondamentale nell'era ...</td>\n",
              "      <td>[0.0034048997331410646, -0.02020329236984253, ...</td>\n",
              "    </tr>\n",
              "    <tr>\n",
              "      <th>8</th>\n",
              "      <td>Financial Networks Connectivity 100</td>\n",
              "      <td>Le nostre soluzioni di Financial Network Conne...</td>\n",
              "      <td>[-0.014843475073575974, -0.0016309183556586504...</td>\n",
              "    </tr>\n",
              "    <tr>\n",
              "      <th>9</th>\n",
              "      <td>Fintech 100</td>\n",
              "      <td>In TAS, supportiamo Fintech innovative come Pa...</td>\n",
              "      <td>[0.003948881756514311, -0.0030905017629265785,...</td>\n",
              "    </tr>\n",
              "    <tr>\n",
              "      <th>10</th>\n",
              "      <td>Fraud Management 100</td>\n",
              "      <td>In un'era digitale in rapida evoluzione, la ge...</td>\n",
              "      <td>[-0.011561820283532143, -0.009850455448031425,...</td>\n",
              "    </tr>\n",
              "    <tr>\n",
              "      <th>11</th>\n",
              "      <td>Global Payment Platform 100</td>\n",
              "      <td>La Global Payment Platform (GPP) di TAS è una ...</td>\n",
              "      <td>[-0.014539182186126709, -0.00954586174339056, ...</td>\n",
              "    </tr>\n",
              "    <tr>\n",
              "      <th>12</th>\n",
              "      <td>Home Page 100</td>\n",
              "      <td>In TAS, sviluppiamo soluzioni per l'evoluzione...</td>\n",
              "      <td>[0.00163066026289016, -0.00018430675845593214,...</td>\n",
              "    </tr>\n",
              "    <tr>\n",
              "      <th>13</th>\n",
              "      <td>Omnichannel Payments Acceptance 100</td>\n",
              "      <td>\"OmniChannel Payments Acceptance\" è una piatta...</td>\n",
              "      <td>[-0.011101389303803444, -0.014862908981740475,...</td>\n",
              "    </tr>\n",
              "    <tr>\n",
              "      <th>14</th>\n",
              "      <td>Pagina HR 100</td>\n",
              "      <td>In TAS, valorizziamo le persone, la loro compe...</td>\n",
              "      <td>[0.004001062363386154, -0.013946942053735256, ...</td>\n",
              "    </tr>\n",
              "    <tr>\n",
              "      <th>15</th>\n",
              "      <td>PSD2 100</td>\n",
              "      <td>L'era PSD2 stimola innovazione e competizione ...</td>\n",
              "      <td>[-0.009164921008050442, -0.010233934968709946,...</td>\n",
              "    </tr>\n",
              "    <tr>\n",
              "      <th>16</th>\n",
              "      <td>Pubblica Amministrazione 100</td>\n",
              "      <td>In TAS, supportiamo la trasformazione digitale...</td>\n",
              "      <td>[0.004549538251012564, 0.0082161296159029, 0.0...</td>\n",
              "    </tr>\n",
              "    <tr>\n",
              "      <th>17</th>\n",
              "      <td>Real Time Liquidity 100</td>\n",
              "      <td>Aquarius è un sistema avanzato di gestione del...</td>\n",
              "      <td>[-0.010432935319840908, -0.007193757686764002,...</td>\n",
              "    </tr>\n",
              "    <tr>\n",
              "      <th>18</th>\n",
              "      <td>Real Time Payments 100</td>\n",
              "      <td>Il Parlamento Europeo ha recentemente approvat...</td>\n",
              "      <td>[-0.015886729583144188, -0.002333404030650854,...</td>\n",
              "    </tr>\n",
              "    <tr>\n",
              "      <th>19</th>\n",
              "      <td>Saluti e Formalità</td>\n",
              "      <td>ciao! ciao ceu salve buondì ciaoooo buongiorno...</td>\n",
              "      <td>[-0.02119011990725994, 0.015528937801718712, -...</td>\n",
              "    </tr>\n",
              "    <tr>\n",
              "      <th>20</th>\n",
              "      <td>TPPay 100</td>\n",
              "      <td>TPPay è un Istituto di Moneta Elettronica (IME...</td>\n",
              "      <td>[-0.024490198120474815, -0.017539922147989273,...</td>\n",
              "    </tr>\n",
              "  </tbody>\n",
              "</table>\n",
              "</div>"
            ],
            "text/plain": [
              "                                  title  \\\n",
              "0                           Banking 100   \n",
              "1    Bills Presentment And Payments 100   \n",
              "2             Branch Transformation 100   \n",
              "3       Card Issuing And Processing 100   \n",
              "4                         Chi Siamo 100   \n",
              "5                              Contacts   \n",
              "6                         Corporate 100   \n",
              "7               Extended Enterprise 100   \n",
              "8   Financial Networks Connectivity 100   \n",
              "9                           Fintech 100   \n",
              "10                 Fraud Management 100   \n",
              "11          Global Payment Platform 100   \n",
              "12                        Home Page 100   \n",
              "13  Omnichannel Payments Acceptance 100   \n",
              "14                        Pagina HR 100   \n",
              "15                             PSD2 100   \n",
              "16         Pubblica Amministrazione 100   \n",
              "17              Real Time Liquidity 100   \n",
              "18               Real Time Payments 100   \n",
              "19                   Saluti e Formalità   \n",
              "20                            TPPay 100   \n",
              "\n",
              "                                                 text  \\\n",
              "0   In TAS, siamo al centro della rivoluzione del ...   \n",
              "1   La nostra piattaforma \"Bills Presentment and P...   \n",
              "2   La trasformazione delle filiali bancarie è cru...   \n",
              "3   Nel mondo dei pagamenti, offriamo soluzioni di...   \n",
              "4   Siamo una Fintech specializzata in soluzioni s...   \n",
              "5   Indirizzo mail per informazioni sui prodotti T...   \n",
              "6   In TAS, supportiamo aziende del mondo Corporat...   \n",
              "7   L'Extended Enterprise è fondamentale nell'era ...   \n",
              "8   Le nostre soluzioni di Financial Network Conne...   \n",
              "9   In TAS, supportiamo Fintech innovative come Pa...   \n",
              "10  In un'era digitale in rapida evoluzione, la ge...   \n",
              "11  La Global Payment Platform (GPP) di TAS è una ...   \n",
              "12  In TAS, sviluppiamo soluzioni per l'evoluzione...   \n",
              "13  \"OmniChannel Payments Acceptance\" è una piatta...   \n",
              "14  In TAS, valorizziamo le persone, la loro compe...   \n",
              "15  L'era PSD2 stimola innovazione e competizione ...   \n",
              "16  In TAS, supportiamo la trasformazione digitale...   \n",
              "17  Aquarius è un sistema avanzato di gestione del...   \n",
              "18  Il Parlamento Europeo ha recentemente approvat...   \n",
              "19  ciao! ciao ceu salve buondì ciaoooo buongiorno...   \n",
              "20  TPPay è un Istituto di Moneta Elettronica (IME...   \n",
              "\n",
              "                                           embeddings  \n",
              "0   [-0.009273371659219265, -0.004997427109628916,...  \n",
              "1   [-0.02100216969847679, -0.007880852557718754, ...  \n",
              "2   [-0.01851186342537403, -0.022544948384165764, ...  \n",
              "3   [-0.005936944857239723, -0.000712500128429383,...  \n",
              "4   [0.012219080701470375, -0.012353061698377132, ...  \n",
              "5   [-0.0047997706569731236, -0.00310545158572495,...  \n",
              "6   [0.011922354809939861, -0.022223806008696556, ...  \n",
              "7   [0.0034048997331410646, -0.02020329236984253, ...  \n",
              "8   [-0.014843475073575974, -0.0016309183556586504...  \n",
              "9   [0.003948881756514311, -0.0030905017629265785,...  \n",
              "10  [-0.011561820283532143, -0.009850455448031425,...  \n",
              "11  [-0.014539182186126709, -0.00954586174339056, ...  \n",
              "12  [0.00163066026289016, -0.00018430675845593214,...  \n",
              "13  [-0.011101389303803444, -0.014862908981740475,...  \n",
              "14  [0.004001062363386154, -0.013946942053735256, ...  \n",
              "15  [-0.009164921008050442, -0.010233934968709946,...  \n",
              "16  [0.004549538251012564, 0.0082161296159029, 0.0...  \n",
              "17  [-0.010432935319840908, -0.007193757686764002,...  \n",
              "18  [-0.015886729583144188, -0.002333404030650854,...  \n",
              "19  [-0.02119011990725994, 0.015528937801718712, -...  \n",
              "20  [-0.024490198120474815, -0.017539922147989273,...  "
            ]
          },
          "execution_count": 5,
          "metadata": {},
          "output_type": "execute_result"
        }
      ],
      "source": [
        "df"
      ]
    },
    {
      "cell_type": "markdown",
      "metadata": {
        "id": "IscUyPjzubht"
      },
      "source": [
        "### Facciamo ora una funzione che, con una chiamata a ada-002, calcola l'embedding di una frase di nostra scelta."
      ]
    },
    {
      "cell_type": "code",
      "execution_count": null,
      "metadata": {
        "id": "0f8crfHFubht"
      },
      "outputs": [],
      "source": [
        "# Creiamo un'istanza dell'SDK di openai. Lo considereremo un singleton in tutto il notebook.\n",
        "client = OpenAI(api_key=os.getenv(\"OPENAI_API_KEY\"))"
      ]
    },
    {
      "cell_type": "code",
      "execution_count": null,
      "metadata": {
        "id": "kkccxCAxubhu"
      },
      "outputs": [],
      "source": [
        "def genera_embeddings(testo:str) -> np.ndarray:\n",
        "\n",
        "    response = client.embeddings.create(input=testo,\n",
        "                                        model='text-embedding-ada-002')\n",
        "    return response.data[0].embedding"
      ]
    },
    {
      "cell_type": "code",
      "execution_count": null,
      "metadata": {
        "id": "Zy-aa0-jubhu",
        "outputId": "d620ea15-cc8b-4382-8ed6-4dd593eb6210"
      },
      "outputs": [
        {
          "name": "stdout",
          "output_type": "stream",
          "text": [
            "[-0.006411836948245764, 0.0025656740181148052, -0.004057490732520819, -0.0391472689807415, -0.03098219633102417, 0.014238785952329636, -0.002271380741149187, -0.014564387500286102, -0.02254161424934864, -0.014777280390262604, 0.040249302983284, 0.01537838950753212, 0.005071863066405058, -0.022904783487319946, 0.020199790596961975, -0.021189117804169655, 0.020187268033623695, -0.01238536462187767, 0.047487664967775345, -0.005488256923854351, 0.008352920413017273, -0.010726051405072212, 0.005879604257643223, -0.0006003269809298217, -0.00359100429341197, -0.015140450559556484, 0.005914042703807354, -0.0066435146145522594, 0.042278047651052475, -0.061613745987415314, 0.02282964624464512, 0.013312075287103653, -0.011846870183944702, 0.0029053636826574802, 0.005654188338667154, -0.027350490912795067, -0.006737438030540943, -0.009611493907868862, 0.0025171469897031784, -0.012617042288184166, 0.029604652896523476, -0.017294427379965782, 0.0054319025948643684, -0.02325543202459812, -0.002067880006507039, 0.01809590682387352, -0.009123092517256737, -0.00656837597489357, -0.023706264793872833, 0.013913185335695744, -0.009166923351585865, -0.005779419559985399, -0.01561632938683033, -0.019473450258374214, 0.01263582706451416, 0.00681883841753006, 0.002485839184373617, 0.004639815539121628, 0.012736012227833271, -0.021715087816119194, 0.004545892123132944, 0.0055790492333471775, -0.002379392506554723, 0.0005885866121388972, -0.011502484790980816, 0.02483334392309189, 0.009617755189538002, 0.019172895699739456, -0.020951177924871445, -0.009085522964596748, 0.029554560780525208, -0.003863382153213024, -0.007526394445449114, 0.006054928060621023, 0.022441428154706955, 0.016668271273374557, -0.0051595247350633144, 0.010932683013379574, -0.020425206050276756, -0.004887147340923548, 0.010632127523422241, -0.034588854759931564, 0.003353065112605691, 0.019410833716392517, 0.03501464053988457, 0.006630991585552692, -0.015090358443558216, 0.03649237006902695, -0.024870913475751877, -0.04440698027610779, -0.02077585458755493, 0.004574069287627935, 0.016204915940761566, 0.025434454903006554, -0.012873766012489796, -0.01299899723380804, -0.014401586726307869, 0.02032502181828022, -0.025346793234348297, -0.00964906346052885, 0.0037444124463945627, -0.01788301393389702, -0.007307239808142185, 0.003569088876247406, -0.01289881207048893, 0.006618468090891838, 0.0033968959469348192, -0.01065717451274395, 0.023405708372592926, -0.002662728074938059, -0.00750760966911912, 0.035791072994470596, 0.03293580189347267, -0.028803173452615738, 0.0028803173918277025, 0.010093634016811848, 0.01805833727121353, -0.0015974803827703, -0.0012546599609777331, 0.004207768011838198, -0.0007412121049128473, 0.019235510379076004, 0.010863805189728737, -0.03503968566656113, 0.0006363309803418815, -0.019035140052437782, -0.010870067402720451, -0.014802326448261738, -0.010262696072459221, 0.01164023857563734, -0.009323461912572384, 0.002556281629949808, -0.005375548731535673, 0.014777280390262604, -0.0037976359017193317, 0.008665998466312885, -0.0033687190152704716, 0.026423780247569084, -0.016054637730121613, 0.0008484413265250623, 0.020400160923600197, 0.023681217804551125, 0.00589212728664279, 0.005406856536865234, -0.0017109711188822985, 0.005547741428017616, -0.0025985471438616514, -0.011183145456016064, -0.004633553791791201, 0.032059185206890106, 0.008133765310049057, 0.014689618721604347, 0.009091784246265888, 0.020638098940253258, 0.011158098466694355, 0.019185418263077736, -0.014802326448261738, 0.020700715482234955, -0.018183568492531776, -0.0026079395320266485, 0.009173184633255005, -0.004974809009581804, 0.027951601892709732, -0.04162684828042984, 0.012422934174537659, 0.03200909122824669, 0.018772155046463013, -0.0008938375976867974, 0.019185418263077736, 0.012873766012489796, 0.004217160400003195, 0.02135191671550274, -0.03293580189347267, 0.025897810235619545, -0.019748957827687263, 0.018408983945846558, -0.009705416858196259, -0.010031018406152725, -0.011145575903356075, -0.014188693836331367, -0.019197940826416016, -0.014927557669579983, 0.0006719435914419591, 0.006649775896221399, -0.008678521029651165, -0.026198364794254303, 0.0015998284798115492, 0.014802326448261738, 0.01783292181789875, -0.026448827236890793, -0.02128930203616619, 0.047437574714422226, 0.025634823366999626, -0.0018988179508596659, -0.6584154963493347, 0.0032654032111167908, -0.013925707899034023, -0.0054412949830293655, 0.009536354802548885, 0.03912222385406494, -0.0011098614195361733, 0.03098219633102417, -0.015691468492150307, 0.034087929874658585, 0.00046061596367508173, 0.026198364794254303, -0.01805833727121353, 0.009461216628551483, -0.00750760966911912, -0.022917307913303375, 0.018020767718553543, 0.008985337801277637, 0.00956140086054802, -0.008158812299370766, -0.02677442878484726, 0.019911758601665497, -0.013850569725036621, 0.008252735249698162, 0.035114824771881104, 0.005068732425570488, 0.033336542546749115, -0.012673396617174149, -0.0010809017112478614, 0.022491522133350372, -0.01562885195016861, 0.014564387500286102, 0.012861243449151516, 0.0029257135465741158, 0.054200056940317154, -0.015779130160808563, -0.00890393741428852, 0.029805023223161697, -0.021189117804169655, 0.02822710946202278, -0.015553713776171207, 3.057402136619203e-05, 0.013825523667037487, -0.006800053641200066, -0.0001836398005252704, -0.018283752724528313, 0.0029053636826574802, -0.02060053125023842, -0.018884863704442978, -0.001325102522969246, 0.00340941920876503, -0.016292577609419823, -0.00445196870714426, 0.0005791942239739001, 0.00768293347209692, -0.010018494911491871, 0.02972988411784172, -0.0013892834540456533, 0.017782827839255333, -0.02031249925494194, -0.021414533257484436, 0.007670410443097353, -0.0023011229932308197, -0.009617755189538002, -0.008021057583391666, 0.002272946061566472, -0.031032288447022438, 0.00966158602386713, 0.015052788890898228, 0.02130182459950447, -0.007169485557824373, 0.014990173280239105, 0.004924716427922249, -0.0055633955635130405, 0.01663070172071457, 0.0006472886889241636, 0.0006437666015699506, -0.0066685606725513935, -0.01807085983455181, -0.013550014235079288, 0.0008578336564823985, 0.009692894294857979, 0.0010644651483744383, -0.010488112457096577, 0.00904169213026762, -0.020988747477531433, -0.04132629185914993, 0.0014111989876255393, 0.007996011525392532, 0.007670410443097353, 0.01585426926612854, 0.013762908056378365, 0.016280055046081543, -0.000858616316691041, 0.005115693900734186, 0.007138177752494812, -0.023706264793872833, 0.01547857467085123, -0.00021504543838091195, -0.04836428537964821, -0.013099182397127151, 0.010381665080785751, 0.03073173388838768, -0.005466341506689787, 0.0034062883350998163, 0.011508746072649956, -0.02875308133661747, 0.010106156580150127, 0.02350589446723461, -0.02599799446761608, 0.0027926554903388023, 0.012673396617174149, -0.03691815584897995, 0.014627003110945225, 0.01202845573425293, -0.021990597248077393, 0.016442855820059776, 0.022754507139325142, 0.019160371273756027, -0.039522964507341385, -0.0015027743065729737, 0.028377387672662735, 0.028677942231297493, -0.009974664077162743, 0.006167636252939701, 0.02629854902625084, -0.025922855362296104, -0.013813000172376633, -0.034062884747982025, 0.007438732776790857, 0.012617042288184166, -0.025947902351617813, 0.010901374742388725, 0.00793965719640255, 0.001761063584126532, -0.026974797248840332, 0.02478325180709362, 0.0012609214754775167, 0.012742273509502411, 0.013550014235079288, -0.027826370671391487, -0.01016251090914011, -0.005200224928557873, 0.003932259511202574, -0.0023136462550610304, -0.03441353142261505, 0.0010221995180472732, 0.0005259710014797747, -0.009217015467584133, 0.010569511912763119, -0.004373699426651001, -0.001945779542438686, 0.005510172341018915, 0.01126454584300518, 0.01738208904862404, 0.0047493926249444485, -0.01883477158844471, -0.002341823186725378, -0.006430621724575758, -0.015791652724146843, 0.010826236568391323, 0.025334268808364868, -0.014126078225672245, 0.0332864485681057, -0.0107636209577322, -0.017933106049895287, -0.00018931433442048728, 0.023380663245916367, -0.005770027171820402, -0.043254852294921875, 0.0029491945169866085, -0.02259170636534691, -0.01862187683582306, -0.0008132200455293059, -0.001604524557478726, -0.022391336038708687, 0.00582011928781867, 0.010801189579069614, 0.041276197880506516, -0.0010096764890477061, 0.00384146673604846, -0.010832497850060463, 0.0007631275802850723, -0.003922867123037577, 0.011922009289264679, 0.012059763073921204, 0.040800321847200394, 0.0206130538135767, -0.013938231393694878, 0.02057548426091671, 0.0029883291572332382, 0.01077614352107048, -0.008916460908949375, 0.008734875358641148, 0.005682365037500858, 0.012761058285832405, 0.017169196158647537, 0.015741560608148575, -0.0061238049529492855, 0.0018268099520355463, 0.029304098337888718, 0.01227891817688942, 0.011001559905707836, -0.011201930232346058, 0.013374690897762775, -0.027876462787389755, 0.01708153448998928, -0.006587160285562277, 0.04130124673247337, 0.03173358365893364, 0.006775007117539644, -0.04009902477264404, 0.005901519674807787, -0.017006395384669304, 0.010093634016811848, 0.03145807608962059, -0.012660873122513294, -0.008428058587014675, -0.0021179725881665945, -0.006170766893774271, 0.019385788589715958, 0.008916460908949375, -0.008891413919627666, -0.020938655361533165, -0.04059994965791702, 0.004818269982933998, 0.0063899215310812, 0.035540610551834106, 0.004135760013014078, -0.0006958157755434513, -0.013299551792442799, 0.014789802953600883, 0.012923859059810638, 0.011508746072649956, 0.0009298415970988572, -0.019273079931735992, -0.007739287335425615, -0.015528667718172073, 0.02207825891673565, -0.011871916241943836, -0.01885981671512127, 0.005763765424489975, 0.025334268808364868, -0.030631547793745995, -0.00251558143645525, 0.010863805189728737, 0.01837141625583172, -0.012416671961545944, 0.009279631078243256, 0.03070668689906597, -0.003850859124213457, -0.012516857124865055, -0.02752581611275673, -0.013161798007786274, 0.039773426949977875, -0.03634209185838699, -0.008221427910029888, 0.011608931235969067, 0.02403186447918415, 0.02977997623383999, -0.007632840890437365, 0.03526510298252106, 0.015566236339509487, -0.0035722197499126196, 0.00036845364957116544, -0.013124228455126286, 0.0020209182985126972, -0.01349992211908102, -0.018759632483124733, -0.001397893182002008, -0.004874623846262693, -0.03020576201379299, 0.017770305275917053, -0.019260557368397713, 0.008979076519608498, -0.012717227451503277, 0.011972101405262947, -0.008096196688711643, 0.01961120404303074, -0.013963277451694012, -0.007801902946084738, -0.02750076912343502, 0.018421508371829987, -0.005654188338667154, 0.014777280390262604, -0.03028090111911297, -0.03789495676755905, 0.03073173388838768, -0.024119526147842407, -0.003941651433706284, 0.005197094287723303, -0.0033374112099409103, 0.02077585458755493, -0.015729038044810295, 0.01288628950715065, 0.02353093959391117, 0.026073133572936058, -0.003954174928367138, 0.0012280483497306705, -0.013099182397127151, 0.012710965238511562, 0.004862100817263126, 0.002601678017526865, -0.02308010868728161, -0.0016608786536380649, -0.006058058701455593, -0.016931256279349327, -0.01425130944699049, 0.005600965116173029, -0.01239162590354681, 0.011508746072649956, 0.01511540450155735, 0.0004355697310529649, -0.011828085407614708, 0.009029168635606766, -0.007545179221779108, -0.006994161754846573, 0.0013626718427985907, 0.014226263388991356, -0.019460925832390785, -0.004070013761520386, -0.027400584891438484, -0.03889680653810501, -0.026448827236890793, 0.03190890699625015, 0.0025484547950327396, -0.0011012518079951406, 0.02947942167520523, 0.0047493926249444485, -0.005795073229819536, -0.018246185034513474, -0.006887715309858322, -0.011477438732981682, -0.01954858936369419, -0.00017698689771350473, -0.017782827839255333, 0.0034845578484237194, 0.012761058285832405, -0.02649891935288906, -0.01807085983455181, 0.02649891935288906, -0.0010605516145005822, 0.007651625666767359, -0.002612635726109147, -0.010782405734062195, 0.028202064335346222, 0.013211890123784542, 0.013474876061081886, -0.015428482554852962, -0.011909485794603825, 0.011552576906979084, 0.013024043291807175, 0.0037913741543889046, -0.018659446388483047, 0.00195673736743629, 0.01252938061952591, -0.0074888248927891254, 0.005807596258819103, -0.004765046760439873, 0.008215165697038174, 0.0024279197677969933, 0.02331804670393467, 0.02351841703057289, -0.0080461036413908, 0.00979934073984623, 0.024407558143138885, 0.010212603025138378, 0.008766183629631996, 0.021364441141486168, -0.001739148166961968, -0.014739710837602615, 0.031608350574970245, -0.00014430937881115824, -0.01425130944699049, 0.032585155218839645, 0.005187701899558306, -0.012297702953219414, -0.024232234805822372, 0.023731309920549393, -0.0034062883350998163, -0.014727187342941761, -0.007582748308777809, -0.0024623582139611244, 0.01882224716246128, -0.0020944916177541018, -0.028177017346024513, -0.017169196158647537, -0.03118256665766239, -0.014839896000921726, -0.05039303004741669, -0.01784544438123703, 0.009855694137513638, -0.02128930203616619, -0.004977939650416374, 0.009279631078243256, -0.00829030480235815, -0.03684301674365997, -0.00606432044878602, 0.041977494955062866, 0.0029601522255688906, 0.013362167403101921, -0.005647926591336727, 0.013199367560446262, 0.023217862471938133, 0.0017657597782090306, -0.027350490912795067, 0.022979922592639923, -0.004295429680496454, -0.008371705189347267, 0.004724346566945314, -0.01324945967644453, -0.001443289453163743, 0.0029194520320743322, 0.023919157683849335, -0.0012202213983982801, 0.026824520900845528, 0.02702489122748375, 0.011226976290345192, -0.009079260751605034, 0.016167346388101578, -0.02227862924337387, 0.0049935937859117985, 4.339064980740659e-05, -0.013775430619716644, 0.005090647842735052, 0.003309234045445919, -0.0080461036413908, -0.01585426926612854, 0.003897820832207799, 0.023906633257865906, 0.005669842008501291, 0.00914813857525587, -0.020475300028920174, 0.006411836948245764, 0.02306758426129818, -0.019936805590987206, 0.02532174624502659, -0.0006406357861123979, -0.01734451949596405, 0.03145807608962059, -0.012322749011218548, 0.03917231410741806, -0.008515721186995506, -0.02702489122748375, -0.011433607898652554, -0.015140450559556484, 0.03366214409470558, 0.01904766447842121, 0.015491098165512085, 0.00010292437946191058, -0.0033123649191111326, -0.001512166578322649, -0.006580899003893137, -0.01177799329161644, -0.028302248567342758, 0.009085522964596748, -0.00966158602386713, -0.03862129896879196, -0.02433241903781891, -0.010375403799116611, 0.0009501916356384754, 0.0010597689542919397, -0.012216302566230297, 0.012798627838492393, -0.020688192918896675, -0.013424783013761044, -0.007889565080404282, -0.014188693836331367, -0.023631125688552856, -0.028076833114027977, -0.0076203178614377975, -0.0206130538135767, -0.002977371448650956, 0.015566236339509487, -0.015541190281510353, 0.017181718721985817, -0.0023371269926428795, -0.013424783013761044, 0.007964703254401684, -0.03847102075815201, -0.0069127618335187435, -0.02553463913500309, -0.01436401717364788, 0.00725088594481349, 0.011370992287993431, -0.007138177752494812, 0.01338721439242363, -0.021940505132079124, -0.007207055110484362, 0.009943356737494469, 0.0023840887006372213, -0.02254161424934864, -0.020550437271595, 0.007707979530096054, 0.03909717872738838, 0.03243487700819969, -5.899562893318944e-05, -0.01812095381319523, -0.02008708193898201, 0.004317345097661018, -0.00017913930059876293, 0.016730885952711105, -0.010701005347073078, 0.007776856888085604, -0.016517993062734604, 0.0018033290980383754, 0.0041764602065086365, -0.02060053125023842, 0.05234663560986519, -0.0041889832355082035, 0.03303598612546921, -0.009861956350505352, 0.013236936181783676, -0.0095426170155406, 0.005363025702536106, -0.011439869180321693, 0.018509170040488243, 0.004743131343275309, -0.009035429917275906, 0.0009000991703942418, -0.021927980706095695, -0.013675245456397533, 0.006674822419881821, -0.016280055046081543, -0.028577757999300957, 0.02797664701938629, 0.012322749011218548, -0.0002023266424657777, 0.0007392553379759192, 0.015052788890898228, 0.009511308744549751, -0.003650489030405879, 0.00013374300033319741, 0.01585426926612854, -0.006358613725751638, -0.01907270960509777, 0.0018894255626946688, -0.021201640367507935, 0.025647347792983055, 0.011909485794603825, -0.023931680247187614, 0.0009541051113046706, -0.035540610551834106, -0.012961427681148052, -0.03924745321273804, 0.022641798481345177, 0.019460925832390785, -0.0072258394211530685, 0.006411836948245764, 0.0015833918005228043, 0.002468619728460908, -0.01349992211908102, 0.005613488145172596, 0.012166209518909454, -0.0019723912701010704, 0.007376117166131735, 0.03539033234119415, -0.0009908918291330338, -0.03178367391228676, -0.0042015062645077705, 0.011045390740036964, -0.003954174928367138, -0.02102631703019142, 0.0016123515088111162, 0.024645498022437096, -0.00914813857525587, -0.02454531379044056, 0.010143726132810116, 0.003922867123037577, -0.004805746953934431, 0.009774294681847095, 0.013875615783035755, -0.03824560344219208, 0.0008836625493131578, -0.001004197634756565, 0.012485549785196781, -0.03178367391228676, 0.024595405906438828, 0.0017532366327941418, -0.002160238102078438, -0.006706130225211382, -6.79477016092278e-05, -0.01813347637653351, 0.013362167403101921, -0.0016186131397262216, 0.028552711009979248, -0.013775430619716644, -5.946646979282377e-06, 0.03496454656124115, 0.022967400029301643, -0.01709405705332756, -0.011333422735333443, -0.010369142517447472, 0.024132050573825836, -0.0036066581960767508, -0.013587583787739277, 0.0028020478785037994, -0.01103286724537611, 0.0003120996116194874, -0.0004750958178192377, 0.01264834962785244, -0.023180292919278145, 0.011790516786277294, -0.006158243864774704, 0.02108893170952797, -0.007113131694495678, -0.006718653254210949, -0.010732312686741352, -0.0012413541553542018, -0.024219712242484093, -0.03251001611351967, 0.012873766012489796, -0.023643648251891136, 0.005435033701360226, -0.02679947391152382, -0.010594558902084827, 0.026123225688934326, -0.013412260450422764, 0.022854691371321678, -0.00588586600497365, -0.005153263453394175, 0.021239209920167923, 0.00012523119221441448, 0.003951043821871281, -0.014689618721604347, -0.012604518793523312, -0.028076833114027977, 0.02850261889398098, 0.022967400029301643, -0.008327874355018139, 0.020375113934278488, -0.005037424620240927, -0.005121955648064613, -0.008352920413017273, 0.018020767718553543, 0.009116830304265022, -0.010701005347073078, -0.01633014716207981, 0.017695166170597076, 0.004267252516001463, 0.022879738360643387, -0.006468190811574459, -0.028652895241975784, 0.01685611717402935, 0.003578481264412403, -0.00761405611410737, -0.029203912243247032, -0.023155245929956436, 0.0016608786536380649, 0.0008531374623999, 0.005259709898382425, 0.006436883006244898, -0.01760750450193882, -0.01586679182946682, 0.00391347473487258, 0.0004011311393696815, -0.004235945176333189, -0.02777627669274807, -0.00016915994638111442, -0.018008245155215263, -0.011057914234697819, 0.027926554903388023, 0.002457662019878626, -0.006430621724575758, 0.010782405734062195, 0.02085099369287491, 0.027901507914066315, 0.008916460908949375, -0.013737861067056656, -0.02624845691025257, -0.004035574849694967, 0.005935958120971918, -0.030330993235111237, -0.013474876061081886, -0.006881454028189182, 0.01857178471982479, 0.010888852179050446, 0.007088085170835257, -0.021414533257484436, 0.020187268033623695, -0.024495219811797142, -0.01166528556495905, -0.016555562615394592, 0.01981157436966896, -0.007131916005164385, 0.0034970808774232864, -0.004044967237859964, 0.023468324914574623, -0.0050186398439109325, 0.008390489965677261, -0.00828404352068901, -0.021752657368779182, 0.009523832239210606, -0.01639276184141636, 0.013700292445719242, -0.018496645614504814, -0.02179022692143917, -0.005059340037405491, 0.003863382153213024, -0.002535931533202529, -0.009329723194241524, 0.008528243750333786, -0.014288878999650478, -0.0055790492333471775, -0.03276047855615616, -0.0063836597837507725, 0.008152550086379051, 0.008872630074620247, 0.012210041284561157, -0.04044967517256737, -0.00375380483455956, 0.006017358507961035, 0.006486975587904453, -0.016906211152672768, 0.011740423738956451, 0.01127080712467432, -0.013524968177080154, 0.030681641772389412, -0.004755654372274876, 0.00750134838744998, 0.008246473968029022, -0.011258283630013466, 0.03576602786779404, -0.023117678239941597, -0.013888138346374035, 0.026148272678256035, -0.010312788188457489, 0.0010683785658329725, -0.024620451033115387, 0.008847583085298538, -0.008828799240291119, 0.011853132396936417, 0.0011646500788629055, -0.013211890123784542, 0.021965550258755684, -0.010200080461800098, -0.0009431474027223885, -0.012660873122513294, 0.0136501993983984, -0.015390913002192974, 0.0012953601544722915, -0.017494797706604004, 0.017682643607258797, 0.02822710946202278, -0.018985047936439514, -0.010982775129377842, -0.009179445914924145, 0.0005529739428311586, 0.0035189962945878506, -0.015403436496853828, 0.013950753957033157, -0.0006449405918829143, 0.013424783013761044, 0.005303540732711554, -0.0038038974162191153, 0.0037663280963897705, 0.008484412916004658, -0.01103286724537611, 0.010337834246456623, 0.02755086123943329, 0.2276202142238617, -0.014151124283671379, -0.017444703727960587, 0.025872763246297836, 0.005923435091972351, 0.020638098940253258, 0.0192981269210577, -0.0008766183163970709, 0.014050939120352268, 0.025722486898303032, 0.0003868469793815166, -0.014702141284942627, -0.00036493150400929153, 0.0112833296880126, 0.018634401261806488, 0.010331572964787483, -0.03095714934170246, -0.022741984575986862, -0.0158793143928051, -0.003794505028054118, 0.016543040052056313, -0.005854558199644089, 0.011684070341289043, -0.01986166648566723, 0.006950330920517445, 0.008421797305345535, -0.040775276720523834, -0.015127927996218204, 0.02130182459950447, -0.0038038974162191153, -0.0033468035981059074, -0.018171045929193497, -0.008371705189347267, 0.010037279687821865, -0.007106869947165251, 0.014176170341670513, 0.048163916915655136, -0.01735704205930233, 0.006418098229914904, -0.01907270960509777, 0.005297279451042414, 0.004198375623673201, -0.012617042288184166, -0.031808722764253616, -0.0008132200455293059, 0.009749247692525387, -0.008665998466312885, -0.006881454028189182, 0.005920304451137781, 0.01734451949596405, -0.027100028470158577, -0.0005341892829164863, 0.01561632938683033, 0.045959845185279846, 0.0015473879175260663, 0.016968825832009315, -0.00445196870714426, 0.025972949340939522, -0.019285602495074272, -0.03253506124019623, 0.013913185335695744, 0.039072129875421524, 0.019999420270323753, 0.01962372660636902, -0.022228535264730453, 0.015090358443558216, -0.0035847427789121866, -0.0009681936353445053, -0.002407569671049714, -0.026949752122163773, 0.0034250731114298105, -0.013888138346374035, 0.013512445613741875, -0.0057011498138308525, -0.021139023825526237, -0.014426632784307003, 0.010870067402720451, -0.009392338804900646, 0.018646923825144768, -0.0018502908060327172, 0.00062811269890517, 0.009429908357560635, 0.0015199935296550393, -0.019911758601665497, -0.016042115166783333, -0.030856965109705925, -0.011978363618254662, 0.01639276184141636, -0.02380644902586937, -0.013700292445719242, -0.006649775896221399, -0.02252909168601036, 0.00434552226215601, -0.01857178471982479, 0.030681641772389412, 0.007701718248426914, -0.01714414916932583, 0.0037788511253893375, -0.01077614352107048, 0.00632417481392622, -0.011302114464342594, -0.009955879300832748, 0.0004116975178476423, 0.009141876362264156, -0.031608350574970245, 0.0016060899943113327, 0.0021618034224957228, 0.01313675194978714, 0.02847757190465927, -0.008947768248617649, -0.0055508725345134735, -0.007207055110484362, 0.019999420270323753, 0.0014785106759518385, -5.4299460316542536e-05, -0.004383091814815998, 0.013838046230375767, -0.0039166053757071495, 0.011621454730629921, -0.010181295685470104, 0.037519264966249466, -0.003944782540202141, -0.008634690195322037, 0.02202816680073738, 0.011809300631284714, -0.022691890597343445, -0.001516080112196505, -0.021201640367507935, 0.016242485493421555, -0.019222987815737724, 0.009943356737494469, -0.01688116416335106, -0.0009588013053871691, -0.020863516256213188, -0.010838759131729603, -0.007920872420072556, -0.005795073229819536, -0.013074136339128017, -0.018158521503210068, -0.006045535672456026, 0.017958153039216995, -0.011039129458367825, -0.01426383201032877, -0.003863382153213024, -0.017720213159918785, -0.006180159281939268, 0.0245828814804554, -0.028402432799339294, 0.00032814484438858926, -0.01656808704137802, -0.03198404610157013, -0.02231619693338871, -0.008578336797654629, -0.0009861956350505352, 0.030055485665798187, 0.005378679372370243, -0.031808722764253616, -0.009498785249888897, -0.019949328154325485, 0.006630991585552692, -0.0027926554903388023, -0.015553713776171207, 0.012823673896491528, 0.012923859059810638, -0.013775430619716644, -0.024708112701773643, -0.15709000825881958, 0.02184031903743744, 0.02400681935250759, -0.029855115339159966, 0.010863805189728737, -0.0031448681838810444, 0.00991204846650362, 0.009285892359912395, 0.009198230691254139, -0.004492668900638819, 0.03849606588482857, -0.010337834246456623, -0.028202064335346222, -0.018521692603826523, 0.0023152115754783154, -0.01981157436966896, 0.00238565425388515, -0.012717227451503277, 0.0257725790143013, 0.031332843005657196, 0.02057548426091671, -0.009248322807252407, 0.01713162660598755, -0.01162771601229906, 0.019661296159029007, 0.0050092474557459354, -0.007106869947165251, 0.0412261076271534, -0.015979500487446785, 0.016693318262696266, -0.046435724943876266, 0.007044254336506128, 0.0030196369625627995, 0.015553713776171207, 0.006868930533528328, -0.01117688324302435, -0.0004195244691800326, -0.012097332626581192, -0.014414110220968723, 0.011370992287993431, 0.014376540668308735, 0.016705840826034546, -0.000608153932262212, 0.018722062930464745, -0.025922855362296104, 0.017482273280620575, 0.05011752247810364, 0.012454241514205933, 0.027100028470158577, -0.022654322907328606, -0.007113131694495678, -0.02301749214529991, 0.025597255676984787, 0.012015932239592075, 0.037193663418293, 0.02280459925532341, 0.007977226749062538, 0.034363437443971634, -0.0010026321979239583, 0.024182142689824104, -0.030681641772389412, -0.0015998284798115492, 0.01162771601229906, -0.003262272570282221, 0.011608931235969067, 0.0058232503943145275, 0.022691890597343445, 0.01957363449037075, -0.02053791470825672, 0.017507320269942284, -0.004815139342099428, -0.031608350574970245, 0.026624150574207306, -0.006843884475529194, 0.004965416621416807, -0.0001519406505394727, -0.0037193663883954287, -0.0010895113227888942, -0.0017767174867913127, -0.022203490138053894, -0.018809724599123, 0.016455378383398056, 0.0027926554903388023, 0.0005713672726415098, -0.027826370671391487, 0.017206765711307526, -0.00979934073984623, -0.0031198218930512667, -0.03098219633102417, -0.03145807608962059, 0.013424783013761044, -7.802490290487185e-05, -0.020713238045573235, -0.006277213338762522, -0.0020866647828370333, -0.0002612244279589504, 0.004057490732520819, 0.006186420563608408, -0.0011881309328600764, 0.020024467259645462, 0.010137464851140976, -0.0181084293872118, -0.0081838583573699, 0.029554560780525208, 0.013875615783035755, 0.008784967474639416, -0.007156962528824806, 0.024971099570393562, 0.009824386797845364, -0.010287742130458355, -0.005344240926206112, 0.022403860464692116, 0.009060476906597614, 0.013086658902466297, -0.007088085170835257, 0.0012483984464779496, -0.022165920585393906, -0.02752581611275673, 0.003138606669381261, 0.000887576024979353, 0.01812095381319523, -0.00303529086522758, -0.0025061890482902527, 0.010538204573094845, 0.0054131182841956615, 0.016017068177461624, -0.08300323039293289, -0.014814849942922592, 0.0003723671252373606, 0.029905207455158234, -0.013362167403101921, 0.048689886927604675, 0.003979220986366272, 0.0006582464557141066, -0.01076988223940134, 0.014050939120352268, -0.006724915001541376, -0.033361587673425674, -0.03403783589601517, 0.001239788718521595, 0.011590146459639072, -0.03266029432415962, 0.0022228534799069166, -0.028928404673933983, -0.028377387672662735, 0.012404149398207664, -0.0034250731114298105, -0.029905207455158234, -0.002936671255156398, -0.002964848419651389, -0.023944202810525894, -0.0183213222771883, -0.01582922227680683, 0.021865366026759148, 0.03276047855615616, -0.01708153448998928, 0.011746685020625591, -0.03997379541397095, 0.008471890352666378, -0.01783292181789875, -0.013800476677715778, -0.021477147936820984, -0.00854076724499464, 0.008716090582311153, 0.018484123051166534, -0.012548165395855904, 0.030155669897794724, 0.0035158656537532806, -0.023105153813958168, -0.0540497824549675, -0.0014472028706222773, 0.0183213222771883, 0.0056416648440063, 0.020412683486938477, 0.012009670957922935, -0.029554560780525208, -0.023969249799847603, -0.012166209518909454, -0.020237360149621964, -0.004724346566945314, 0.020713238045573235, -0.018383938819169998, 0.004157675430178642, 0.011834347620606422, -0.02482082135975361, -0.004899670369923115, -0.01688116416335106, -0.0017798482440412045, -0.025647347792983055, 0.0013391909888014197, 0.001726625021547079, 0.005447556730359793, -0.02280459925532341, -0.027150122448801994, 0.002739432267844677, -0.0006539415917359293, 0.00117639044765383, 0.013625153340399265, -0.001671836362220347, 0.006524545140564442, -0.026624150574207306, 0.0019176026107743382, -0.023418232798576355, -0.011126791127026081, 0.014038416557013988, -0.00930467713624239, -0.006198944058269262, -0.021489672362804413, 0.0070505160838365555, -0.026924705132842064, -0.002035006880760193, 0.01475223433226347, -0.008928983472287655, 0.007376117166131735, 0.0002907711605075747, -0.0381704680621624, -0.012836196459829807, -0.010882589966058731, 0.027350490912795067, 0.0048714932054281235, -0.009016645140945911, 0.0037475433200597763, 0.0025484547950327396, 0.00324974930845201, 0.021239209920167923, -0.00844684336334467, -0.0020835339091718197, -0.0014597260160371661, -0.05610357224941254, 0.012310225516557693, -0.023731309920549393, -0.00989952590316534, 0.004990462679415941, -0.021965550258755684, -0.0008742702193558216, -0.011734162457287312, 0.011721638962626457, -0.010876328684389591, -0.01363767683506012, 0.0029867638368159533, 0.04167693853378296, -0.004633553791791201, -0.022629275918006897, -0.0041639371775090694, 0.0455591045320034, 0.02727535367012024, 0.028452526777982712, -0.008396751247346401, -0.00015526710194535553, 0.004307952709496021, -0.019210463389754295, -0.011934531852602959, 0.0030885140877217054, -0.000482922769151628, -0.006618468090891838, 0.0012100463500246406, -0.0009940225863829255, -0.02805178612470627, 0.0020835339091718197, -0.006875192280858755, -0.005309802480041981, 0.03313617408275604, -0.000764301570598036, -0.03215936943888664, 0.02209078148007393, 0.02210330404341221, -0.03476417809724808, 0.07118140906095505, -0.01411355473101139, -0.03937268629670143, 0.00966158602386713, 0.009999710135161877, 0.0031182565726339817, 0.012961427681148052, -0.005438164342194796, 0.00029018413624726236, 0.03276047855615616, 0.006756222806870937, 0.016267530620098114, 0.01314927451312542, -0.014576910063624382, -0.02627350389957428, -0.030105577781796455, -0.03318626433610916, 0.0005639317096211016, -0.011840608902275562, 0.031082380563020706, -0.021953027695417404, 0.030406132340431213, 0.0022197228390723467, -0.0158793143928051, -0.014915034174919128, -0.01834636926651001, -0.009962140582501888, -0.007031731307506561, 0.006083104759454727, 0.010231387801468372, -0.016405286267399788, -0.015591283328831196, 0.011752947233617306, -0.008403012529015541, 0.017407136037945747, 0.015666421502828598, 0.008841321803629398, 0.015403436496853828, 0.0030556409619748592, -0.028101878240704536, 0.02797664701938629, 0.013575061224400997, 0.0017594981472939253, 0.0009634974412620068, 0.003384372917935252, 0.02080089971423149, 0.022504044696688652, -0.013011520728468895, -0.0007091215811669827, 0.012491811066865921, 0.013712815009057522, -0.0003132736310362816, 0.0051689171232283115, -0.004135760013014078, 0.008678521029651165, 0.011815562844276428, -0.01731947250664234, 0.008653474971652031, 0.005541480146348476, 0.02135191671550274, 0.02679947391152382, 0.014451678842306137, 0.01683107204735279, -0.013575061224400997, -0.02328047715127468, -0.00039623930933885276, 0.015954453498125076, -0.003331149695441127, -0.020262407138943672, 0.027450677007436752, 0.012848719954490662, 0.0181084293872118, 0.01522811222821474, 0.019899236038327217, 0.02629854902625084, -0.013099182397127151, 0.016693318262696266, -0.002127364743500948, -0.01714414916932583, -0.02477072924375534, 0.04162684828042984, 0.01102660596370697, 0.01739461161196232, 0.021364441141486168, -0.005666711367666721, 0.00563853420317173, 0.003938520792871714, 0.0011795212049037218, -0.032084230333566666, 0.008158812299370766, 0.015390913002192974, 0.01788301393389702, -0.019686343148350716, -0.0352400578558445, -0.023105153813958168, -0.005118825007230043, -0.002692470559850335, -0.009166923351585865, 0.002478012116625905, -0.03353691101074219, 0.08781211078166962, 0.0071882703341543674, -0.0024247888941317797, 0.005240925122052431, 0.018459077924489975, 0.009354770183563232, 0.010888852179050446, -0.001945779542438686, -0.01807085983455181, -0.015791652724146843, -0.0063805291429162025, 0.013700292445719242, -0.0017219288274645805, -0.01188443973660469, -0.023631125688552856, 0.011896963231265545, -0.014727187342941761, 0.010400449857115746, -0.012604518793523312, -0.021978072822093964, 0.010989036411046982, 0.012566950172185898, 0.017532367259263992, -0.012491811066865921, -0.015929406508803368, -0.0011638673022389412, 0.013925707899034023, 0.007125654723495245, 0.004677385091781616, -0.022403860464692116, 0.00718200858682394, 0.018934955820441246, -0.011139314621686935, 0.0024482696317136288, 0.005225271452218294, -0.008490674197673798, -0.0009400165872648358, 0.01835889182984829, -0.02158985659480095, 0.02128930203616619, 0.0006766397855244577, 0.0094048622995615, -0.03028090111911297, -0.013787954114377499, 0.021176593378186226, -0.024219712242484093, 0.008334135636687279, 0.003478296333923936, -0.0237563569098711]\n"
          ]
        }
      ],
      "source": [
        "nuovi_embeddings = genera_embeddings(\"Ciao, mi chiamo Lorenzo.\")\n",
        "\n",
        "print(nuovi_embeddings)"
      ]
    },
    {
      "cell_type": "markdown",
      "metadata": {
        "id": "_ipNuTP6ubhu"
      },
      "source": [
        "### Definiamo ora una funzione per la distanza coseno.\n",
        "PS: ricordiamo, per i più ruspanti, che la distanza coseno è il prodotto scalare / il prodotto delle norme.\n",
        "\n",
        "Utilizziamo la distanza coseno perchè la magnitudine non ci interessa. Perchè non ci interessa? Perchè i modelli di embeddings restituiscono sempre array della stessa lunghezza. (nel caso di ada 1536).\n",
        "\n",
        "Contrariamente a quanto potrebbe sembrare, migliore è il modello, minore è la lunghezza dei vettori che produce. I modelli precedenti ad ada-002 restituivano embeddings con lunghezze comprese tra 10.000 e 20.000 a seconda del modello, rendendo piu lunghe le elaborazioni. Si poteva ridurre la dimensionalità con la PCA, ma si perdeva MOLTA accuratezza."
      ]
    },
    {
      "cell_type": "code",
      "execution_count": null,
      "metadata": {
        "id": "b5VpDJsMubhv"
      },
      "outputs": [],
      "source": [
        "def distanza_coseno(a:np.ndarray,b:np.ndarray)->float:\n",
        "\n",
        "    return 1 - np.dot(a,b)/np.linalg.norm(a)*np.linalg.norm(b)"
      ]
    },
    {
      "cell_type": "markdown",
      "metadata": {
        "id": "F2UcAOdIubhv"
      },
      "source": [
        "### Usiamo pandas per creare una colonna \"distanza\" che contiene la distanza_coseno tra l'embedding della funzione che noi gli diamo e tutte quelle nel dataframe"
      ]
    },
    {
      "cell_type": "code",
      "execution_count": null,
      "metadata": {
        "id": "mlcnsJCeubhv",
        "outputId": "450695a3-a244-4972-9260-d558adf5d83b"
      },
      "outputs": [
        {
          "data": {
            "text/html": [
              "<div>\n",
              "<style scoped>\n",
              "    .dataframe tbody tr th:only-of-type {\n",
              "        vertical-align: middle;\n",
              "    }\n",
              "\n",
              "    .dataframe tbody tr th {\n",
              "        vertical-align: top;\n",
              "    }\n",
              "\n",
              "    .dataframe thead th {\n",
              "        text-align: right;\n",
              "    }\n",
              "</style>\n",
              "<table border=\"1\" class=\"dataframe\">\n",
              "  <thead>\n",
              "    <tr style=\"text-align: right;\">\n",
              "      <th></th>\n",
              "      <th>title</th>\n",
              "      <th>text</th>\n",
              "      <th>embeddings</th>\n",
              "      <th>distanza</th>\n",
              "    </tr>\n",
              "  </thead>\n",
              "  <tbody>\n",
              "    <tr>\n",
              "      <th>10</th>\n",
              "      <td>Fraud Management 100</td>\n",
              "      <td>In un'era digitale in rapida evoluzione, la ge...</td>\n",
              "      <td>[-0.011561820283532143, -0.009850455448031425,...</td>\n",
              "      <td>0.219493</td>\n",
              "    </tr>\n",
              "    <tr>\n",
              "      <th>19</th>\n",
              "      <td>Saluti e Formalità</td>\n",
              "      <td>ciao! ciao ceu salve buondì ciaoooo buongiorno...</td>\n",
              "      <td>[-0.02119011990725994, 0.015528937801718712, -...</td>\n",
              "      <td>0.240475</td>\n",
              "    </tr>\n",
              "    <tr>\n",
              "      <th>2</th>\n",
              "      <td>Branch Transformation 100</td>\n",
              "      <td>La trasformazione delle filiali bancarie è cru...</td>\n",
              "      <td>[-0.01851186342537403, -0.022544948384165764, ...</td>\n",
              "      <td>0.248291</td>\n",
              "    </tr>\n",
              "    <tr>\n",
              "      <th>4</th>\n",
              "      <td>Chi Siamo 100</td>\n",
              "      <td>Siamo una Fintech specializzata in soluzioni s...</td>\n",
              "      <td>[0.012219080701470375, -0.012353061698377132, ...</td>\n",
              "      <td>0.250716</td>\n",
              "    </tr>\n",
              "    <tr>\n",
              "      <th>0</th>\n",
              "      <td>Banking 100</td>\n",
              "      <td>In TAS, siamo al centro della rivoluzione del ...</td>\n",
              "      <td>[-0.009273371659219265, -0.004997427109628916,...</td>\n",
              "      <td>0.254012</td>\n",
              "    </tr>\n",
              "    <tr>\n",
              "      <th>6</th>\n",
              "      <td>Corporate 100</td>\n",
              "      <td>In TAS, supportiamo aziende del mondo Corporat...</td>\n",
              "      <td>[0.011922354809939861, -0.022223806008696556, ...</td>\n",
              "      <td>0.254255</td>\n",
              "    </tr>\n",
              "    <tr>\n",
              "      <th>16</th>\n",
              "      <td>Pubblica Amministrazione 100</td>\n",
              "      <td>In TAS, supportiamo la trasformazione digitale...</td>\n",
              "      <td>[0.004549538251012564, 0.0082161296159029, 0.0...</td>\n",
              "      <td>0.262054</td>\n",
              "    </tr>\n",
              "    <tr>\n",
              "      <th>18</th>\n",
              "      <td>Real Time Payments 100</td>\n",
              "      <td>Il Parlamento Europeo ha recentemente approvat...</td>\n",
              "      <td>[-0.015886729583144188, -0.002333404030650854,...</td>\n",
              "      <td>0.262123</td>\n",
              "    </tr>\n",
              "    <tr>\n",
              "      <th>8</th>\n",
              "      <td>Financial Networks Connectivity 100</td>\n",
              "      <td>Le nostre soluzioni di Financial Network Conne...</td>\n",
              "      <td>[-0.014843475073575974, -0.0016309183556586504...</td>\n",
              "      <td>0.263480</td>\n",
              "    </tr>\n",
              "    <tr>\n",
              "      <th>1</th>\n",
              "      <td>Bills Presentment And Payments 100</td>\n",
              "      <td>La nostra piattaforma \"Bills Presentment and P...</td>\n",
              "      <td>[-0.02100216969847679, -0.007880852557718754, ...</td>\n",
              "      <td>0.266169</td>\n",
              "    </tr>\n",
              "    <tr>\n",
              "      <th>14</th>\n",
              "      <td>Pagina HR 100</td>\n",
              "      <td>In TAS, valorizziamo le persone, la loro compe...</td>\n",
              "      <td>[0.004001062363386154, -0.013946942053735256, ...</td>\n",
              "      <td>0.266752</td>\n",
              "    </tr>\n",
              "    <tr>\n",
              "      <th>3</th>\n",
              "      <td>Card Issuing And Processing 100</td>\n",
              "      <td>Nel mondo dei pagamenti, offriamo soluzioni di...</td>\n",
              "      <td>[-0.005936944857239723, -0.000712500128429383,...</td>\n",
              "      <td>0.267783</td>\n",
              "    </tr>\n",
              "    <tr>\n",
              "      <th>7</th>\n",
              "      <td>Extended Enterprise 100</td>\n",
              "      <td>L'Extended Enterprise è fondamentale nell'era ...</td>\n",
              "      <td>[0.0034048997331410646, -0.02020329236984253, ...</td>\n",
              "      <td>0.268372</td>\n",
              "    </tr>\n",
              "    <tr>\n",
              "      <th>15</th>\n",
              "      <td>PSD2 100</td>\n",
              "      <td>L'era PSD2 stimola innovazione e competizione ...</td>\n",
              "      <td>[-0.009164921008050442, -0.010233934968709946,...</td>\n",
              "      <td>0.270951</td>\n",
              "    </tr>\n",
              "    <tr>\n",
              "      <th>12</th>\n",
              "      <td>Home Page 100</td>\n",
              "      <td>In TAS, sviluppiamo soluzioni per l'evoluzione...</td>\n",
              "      <td>[0.00163066026289016, -0.00018430675845593214,...</td>\n",
              "      <td>0.272033</td>\n",
              "    </tr>\n",
              "    <tr>\n",
              "      <th>9</th>\n",
              "      <td>Fintech 100</td>\n",
              "      <td>In TAS, supportiamo Fintech innovative come Pa...</td>\n",
              "      <td>[0.003948881756514311, -0.0030905017629265785,...</td>\n",
              "      <td>0.272295</td>\n",
              "    </tr>\n",
              "    <tr>\n",
              "      <th>5</th>\n",
              "      <td>Contacts</td>\n",
              "      <td>Indirizzo mail per informazioni sui prodotti T...</td>\n",
              "      <td>[-0.0047997706569731236, -0.00310545158572495,...</td>\n",
              "      <td>0.277576</td>\n",
              "    </tr>\n",
              "    <tr>\n",
              "      <th>11</th>\n",
              "      <td>Global Payment Platform 100</td>\n",
              "      <td>La Global Payment Platform (GPP) di TAS è una ...</td>\n",
              "      <td>[-0.014539182186126709, -0.00954586174339056, ...</td>\n",
              "      <td>0.283961</td>\n",
              "    </tr>\n",
              "    <tr>\n",
              "      <th>17</th>\n",
              "      <td>Real Time Liquidity 100</td>\n",
              "      <td>Aquarius è un sistema avanzato di gestione del...</td>\n",
              "      <td>[-0.010432935319840908, -0.007193757686764002,...</td>\n",
              "      <td>0.288320</td>\n",
              "    </tr>\n",
              "    <tr>\n",
              "      <th>13</th>\n",
              "      <td>Omnichannel Payments Acceptance 100</td>\n",
              "      <td>\"OmniChannel Payments Acceptance\" è una piatta...</td>\n",
              "      <td>[-0.011101389303803444, -0.014862908981740475,...</td>\n",
              "      <td>0.288403</td>\n",
              "    </tr>\n",
              "    <tr>\n",
              "      <th>20</th>\n",
              "      <td>TPPay 100</td>\n",
              "      <td>TPPay è un Istituto di Moneta Elettronica (IME...</td>\n",
              "      <td>[-0.024490198120474815, -0.017539922147989273,...</td>\n",
              "      <td>0.301482</td>\n",
              "    </tr>\n",
              "  </tbody>\n",
              "</table>\n",
              "</div>"
            ],
            "text/plain": [
              "                                  title  \\\n",
              "10                 Fraud Management 100   \n",
              "19                   Saluti e Formalità   \n",
              "2             Branch Transformation 100   \n",
              "4                         Chi Siamo 100   \n",
              "0                           Banking 100   \n",
              "6                         Corporate 100   \n",
              "16         Pubblica Amministrazione 100   \n",
              "18               Real Time Payments 100   \n",
              "8   Financial Networks Connectivity 100   \n",
              "1    Bills Presentment And Payments 100   \n",
              "14                        Pagina HR 100   \n",
              "3       Card Issuing And Processing 100   \n",
              "7               Extended Enterprise 100   \n",
              "15                             PSD2 100   \n",
              "12                        Home Page 100   \n",
              "9                           Fintech 100   \n",
              "5                              Contacts   \n",
              "11          Global Payment Platform 100   \n",
              "17              Real Time Liquidity 100   \n",
              "13  Omnichannel Payments Acceptance 100   \n",
              "20                            TPPay 100   \n",
              "\n",
              "                                                 text  \\\n",
              "10  In un'era digitale in rapida evoluzione, la ge...   \n",
              "19  ciao! ciao ceu salve buondì ciaoooo buongiorno...   \n",
              "2   La trasformazione delle filiali bancarie è cru...   \n",
              "4   Siamo una Fintech specializzata in soluzioni s...   \n",
              "0   In TAS, siamo al centro della rivoluzione del ...   \n",
              "6   In TAS, supportiamo aziende del mondo Corporat...   \n",
              "16  In TAS, supportiamo la trasformazione digitale...   \n",
              "18  Il Parlamento Europeo ha recentemente approvat...   \n",
              "8   Le nostre soluzioni di Financial Network Conne...   \n",
              "1   La nostra piattaforma \"Bills Presentment and P...   \n",
              "14  In TAS, valorizziamo le persone, la loro compe...   \n",
              "3   Nel mondo dei pagamenti, offriamo soluzioni di...   \n",
              "7   L'Extended Enterprise è fondamentale nell'era ...   \n",
              "15  L'era PSD2 stimola innovazione e competizione ...   \n",
              "12  In TAS, sviluppiamo soluzioni per l'evoluzione...   \n",
              "9   In TAS, supportiamo Fintech innovative come Pa...   \n",
              "5   Indirizzo mail per informazioni sui prodotti T...   \n",
              "11  La Global Payment Platform (GPP) di TAS è una ...   \n",
              "17  Aquarius è un sistema avanzato di gestione del...   \n",
              "13  \"OmniChannel Payments Acceptance\" è una piatta...   \n",
              "20  TPPay è un Istituto di Moneta Elettronica (IME...   \n",
              "\n",
              "                                           embeddings  distanza  \n",
              "10  [-0.011561820283532143, -0.009850455448031425,...  0.219493  \n",
              "19  [-0.02119011990725994, 0.015528937801718712, -...  0.240475  \n",
              "2   [-0.01851186342537403, -0.022544948384165764, ...  0.248291  \n",
              "4   [0.012219080701470375, -0.012353061698377132, ...  0.250716  \n",
              "0   [-0.009273371659219265, -0.004997427109628916,...  0.254012  \n",
              "6   [0.011922354809939861, -0.022223806008696556, ...  0.254255  \n",
              "16  [0.004549538251012564, 0.0082161296159029, 0.0...  0.262054  \n",
              "18  [-0.015886729583144188, -0.002333404030650854,...  0.262123  \n",
              "8   [-0.014843475073575974, -0.0016309183556586504...  0.263480  \n",
              "1   [-0.02100216969847679, -0.007880852557718754, ...  0.266169  \n",
              "14  [0.004001062363386154, -0.013946942053735256, ...  0.266752  \n",
              "3   [-0.005936944857239723, -0.000712500128429383,...  0.267783  \n",
              "7   [0.0034048997331410646, -0.02020329236984253, ...  0.268372  \n",
              "15  [-0.009164921008050442, -0.010233934968709946,...  0.270951  \n",
              "12  [0.00163066026289016, -0.00018430675845593214,...  0.272033  \n",
              "9   [0.003948881756514311, -0.0030905017629265785,...  0.272295  \n",
              "5   [-0.0047997706569731236, -0.00310545158572495,...  0.277576  \n",
              "11  [-0.014539182186126709, -0.00954586174339056, ...  0.283961  \n",
              "17  [-0.010432935319840908, -0.007193757686764002,...  0.288320  \n",
              "13  [-0.011101389303803444, -0.014862908981740475,...  0.288403  \n",
              "20  [-0.024490198120474815, -0.017539922147989273,...  0.301482  "
            ]
          },
          "execution_count": 10,
          "metadata": {},
          "output_type": "execute_result"
        }
      ],
      "source": [
        "b = genera_embeddings(\"avete una soluzione antifrode?\")\n",
        "\n",
        "# creiamo la colonna distanza\n",
        "df['distanza'] = df['embeddings'].apply(lambda a : distanza_coseno(a,b))\n",
        "\n",
        "# ordiniamo il df per quella distanza\n",
        "df.sort_values('distanza')\n",
        "\n"
      ]
    },
    {
      "cell_type": "markdown",
      "metadata": {
        "id": "G9fxX_Q5ubhv"
      },
      "source": [
        "### Ora stessa cosa, ma facciamo una funzione, che tiene solo la prima riga, e estrae text e title"
      ]
    },
    {
      "cell_type": "code",
      "execution_count": null,
      "metadata": {
        "id": "Gm9mhUUMubhv"
      },
      "outputs": [],
      "source": [
        "def esito_ricerca(frase:str) -> str:\n",
        "\n",
        "    # genero embeddings della mia frase, e valuterò le\n",
        "    b = genera_embeddings(frase)\n",
        "\n",
        "    # creiamo la colonna distanza\n",
        "    df['distanza'] = df['embeddings'].apply(lambda a : distanza_coseno(a,b))\n",
        "\n",
        "    # prendiamo il primo elemento del df ordinato per la distanza\n",
        "    riga_migliore = df.sort_values('distanza').iloc[0]\n",
        "\n",
        "    # impacchettiamo il tutto in una stringa con forma \"titolo : testo\"\n",
        "    risultato = f\"{riga_migliore['title']} : {riga_migliore['text']}\"\n",
        "\n",
        "    return risultato"
      ]
    },
    {
      "cell_type": "markdown",
      "metadata": {
        "id": "R5rZOwCSubhw"
      },
      "source": [
        "### Adesso siamo in grado, a partire da una frase, di estrarre il testo più pertinente dalla base di conoscenza e il suo titolo."
      ]
    },
    {
      "cell_type": "code",
      "execution_count": null,
      "metadata": {
        "id": "Ka0NwB6iubhw",
        "outputId": "e9e9a05c-f112-4e57-cfad-c3689c5d6eab"
      },
      "outputs": [
        {
          "data": {
            "text/plain": [
              "\"Saluti e Formalità : ciao! ciao ceu salve buondì ciaoooo buongiorno buonasera ciao gioia ciao bello ciao bella ciao LIA buon pomeriggio hola good morning bonjour Dovrai rispondere a queste domande con frasi gentili e positive, presentandoti sempre come LIA. Se l'utente dice di avere un problema, allora rimanda a solutions@tasgroup.eu. Il numero di telefono dell'assistenza clienti è 051 458011. Se l'utente vuole parlare con un commerciale, allora rimanda a solutions@tasgroup.eu. Se l'utente vuole mettersi in contatto, allora digli che può usare il form di contatto al link https://tasgroup.eu/contacts. Sedi in Italia: - Milano: Via Serviliano Lattuada 25 - Roma: Via Cristoforo Colombo 149 - Bologna: Via del Lavoro 47, Casalecchio di Reno - Parma: Via Licinio Ferretti 5/A - Prato: Via Traversa Pistoiese 83 - Siena: Via A. Marzi 4 Sedi Estere: - Francia: traverse des Brucs 15, Valbonne Sophia Antipolis - Svizzera: Via Serafino Balestra 22B, Lugano - Germania: Wilhelm-Hale-Str 50, München - Spagna: C/Juan Camarillo 47, Madrid - Serbia: Bulevar Mihajla Pupina 115 Ž, New Belgrade - Stati Uniti: Empire State Building 350 Fifth Avenue, 41st Floor, New York - Brasile: Rua Irmã Gabriela 51, Spaces Berrini Cidade Monções, São Paulo\""
            ]
          },
          "execution_count": 12,
          "metadata": {},
          "output_type": "execute_result"
        }
      ],
      "source": [
        "esito_ricerca(\"dove sono le vostre sedi?\")"
      ]
    },
    {
      "cell_type": "markdown",
      "metadata": {
        "id": "6LFQtBaHubhw"
      },
      "source": [
        "## Passiamo ora alla seconda parte: GENERATE"
      ]
    },
    {
      "cell_type": "markdown",
      "metadata": {
        "id": "p1HkNih7ubhw"
      },
      "source": [
        "Ora passiamo alla parte vera e propria della generazione della risposta, ma parliamo prima un attimo dei modi in cui si può generare un testo generico utilizzando AI generativa, focalizzandoci non sulla teoria ma sulla pratica.\n",
        "\n",
        "A prescinere dal modello usato, da chi lo ha realizzato, e dall'infrastruttura sistemistica che si occupa dell'inferenza, i metodi sono progettati per potere essere inferiti in due modi:\n",
        "\n",
        "- con un PROMPT (modelli con nome xxx-instruct)\n",
        "- con un CHAT COMPLETION (modelli con nome xxx-chat)\n",
        "\n",
        "I modelli instruct sono sempre meno utilizzati, ma consentono di generare un testo a partire da un'istruzione in linguaggio naturale. Ecco un esempio:\n",
        "\n"
      ]
    },
    {
      "cell_type": "code",
      "execution_count": null,
      "metadata": {
        "id": "Y_UqZknUubhw",
        "outputId": "b810dc4b-2144-49f9-cdaf-540678fa56d3"
      },
      "outputs": [
        {
          "name": "stdout",
          "output_type": "stream",
          "text": [
            "\n",
            "\n",
            "Una volta in una scuola elementare c'era un bambino di nome Luca che aveva sempre una grande passione per gli animali. Un giorno, durante la pausa, Luca trovò un insetto molto strano nel cortile della scuola. Era verde fluo con una strana forma a spirale e sembrava molto arrabbiato.\n",
            "\n",
            "Senza pensarci due volte, Luca lo prese in mano e corse verso la classe per mostrarlo ai suoi compagni. Ma, non appena entrò nella stanza, l'insetto lo morse sul dito, facendolo gridare e far cadere l'insetto per terra.\n",
            "\n",
            "Improvvisamente, tutto il resto della classe sembrò improvvisamente svegliarsi da un sonno profondo e povocare risate generali. \"Che cosa è successo?\" chiese Luca, ancora un po' confuso.\n",
            "\n",
            "\"Il tuo amico insetto era un insetto dormiglione, che può causare a chiunque lo tocchi di addormentarsi!\" spiegò il suo amico Marco tra una risata e l'altra.\n",
            "\n",
            "Tutti si diedero da fare per cercare di svegliare Luca che, a quel punto, si trovava a dormire sul pavimento insieme alla sua \"amico\" insetto. Alla fine, dopo un po' di tentativi, riuscirono a farlo svegliare e da quel momento in poi Luca prestò più attenzione a ciò che toccava, specialmente quando si trattava di insetti strani!\n",
            "\n",
            "Da quel giorno, ogni volta che Luca raccontava la storia del suo incontro con l'insetto dormiglione, finiva sempre con una risata e tutti lo chiamavano \"l'amico degli insetti addormentati\". \n"
          ]
        }
      ],
      "source": [
        "response = client.completions.create(prompt=\"Raccontami una storia divertente in italiano\",\n",
        "                                    model = \"gpt-3.5-turbo-instruct\",\n",
        "                                    max_tokens=1000,\n",
        "                                    temperature=1\n",
        "                                    )\n",
        "\n",
        "print(response.choices[0].text)"
      ]
    },
    {
      "cell_type": "markdown",
      "metadata": {
        "id": "k4l0IsJgubhx"
      },
      "source": [
        "I modelli di chat, ovvero quelli più potenti e moderni, seguono una sintassi di generazione del testo che invia una \"chat\" al sistema, il quale deve generare il completamento più logico a quella chat.\n",
        "\n",
        "Viene inviata al modello una lista di messaggi, ciascun messaggio è un dizionario con chiavi \"role\" e \"content\".\n",
        "\n",
        "I ruoli possono essere \"system\", \"user\" o \"assistant\" o \"function\". In questa sede ci serviranno solo i primi due:\n",
        "\n",
        "- I messaggi \"system\" contengono le istruzioni che vanno \"dette all'orecchio\" del modello prima che generi la risposta. Solitamente si utilizza per le istruzioni o per informazioni aggiuntive.\n",
        "\n",
        "- I messaggi \"user\" contengono la vera e propria domanda che il modello dovrà inferire, e solitamente sono l'ultimo messaggio.\n",
        "\n",
        "\n"
      ]
    },
    {
      "cell_type": "code",
      "execution_count": null,
      "metadata": {
        "id": "lq0es1h7ubhx",
        "outputId": "0294780d-ebe7-4b03-e67d-352a06089f00"
      },
      "outputs": [
        {
          "name": "stdout",
          "output_type": "stream",
          "text": [
            "Napule, 'na vota, c'era 'na famiglia ricca ricca che aveva 'nu piccerillo cchiù pazzarello ca na capa 'e pipistrello. Chest'ommo cacchio, nun sapeva do' mué e chist'uocchie 'e coppa: 'e faveva cadere arrecanno rierzo e riso dint'a casa. E tutto era na festa! 'O taglio 'e capelli? Lostregga! 'A scuola? Chiacchiere e risate! E n'ata cosa, quanno era 'a semmenza do'dimane, chest'uocchie gua 'e Patrick 'a stella 'e mare. Pe' 'a festa 'e natale, avevanne magnato en 'o presepe, e chest'ommo pazzarello,- mentre stava 'e aspettà 'a gesù bambino,- rumpette aranto 'o presepe e dicette:\" 'O regalo comme l'mmaggio 'a miezz'ate\". 'E risate scocciavono dint''à casa, e risucceva chiddu'uaggio 'o bbadalucco! E nisciuno cchiù seppe 'e uocchie 'e Patrid', ca vide e spaccò, cercanno 'o dulore dint'ôrideuceallo.\n"
          ]
        }
      ],
      "source": [
        "messaggio_system = \"Sei un algoritmo cantastorie. Parla in napoletano\"\n",
        "messaggio_user = \" raccontami una storia divertente\"\n",
        "\n",
        "response = client.chat.completions.create(\n",
        "    messages = [\n",
        "        {\"role\" : \"system\", \"content\" : messaggio_system},\n",
        "        {\"role\": \"user\", \"content\": messaggio_user}\n",
        "    ],\n",
        "    model = \"gpt-3.5-turbo\",\n",
        "    temperature = 1\n",
        ")\n",
        "\n",
        "print(response.choices[0].message.content)\n"
      ]
    },
    {
      "cell_type": "markdown",
      "metadata": {
        "id": "IoDRSxvRubhx"
      },
      "source": [
        "### Possiamo anche implementare più messaggi system, ad esempio uno con una istruzione e uno con dei dati aggiuntivi"
      ]
    },
    {
      "cell_type": "code",
      "execution_count": null,
      "metadata": {
        "id": "8gA-Lh6tubhx",
        "outputId": "4f045ea9-de9e-462f-9cfd-df82ee2d5818"
      },
      "outputs": [
        {
          "name": "stdout",
          "output_type": "stream",
          "text": [
            "Ludovico Ariosto, poeta rinascimentale italiano, nacque nel 1474 a Reggio Emilia. Autore dell'epico \"Orlando Furioso\", crebbe a Ferrara, dove lavorò alla corte degli Este. La sua opera, influenzata dalla classicità, narra storie avventurose e romantiche. Ariosto fu anche amministratore e morì nel 1533, lasciando un'impronta duratura.\n"
          ]
        }
      ],
      "source": [
        "messaggio_system = \"Sei un algoritmo che aiuta gli studenti. Fai ciò che ti viene chiesto\"\n",
        "\n",
        "\n",
        "messaggio_system2 = \"\"\"\n",
        "Ludovico Ariosto, uno degli scrittori più influenti del Rinascimento italiano, è noto soprattutto per il suo poema epico \"Orlando Furioso\". Nato il 8 settembre 1474 a Reggio Emilia, Ariosto crebbe in una famiglia benestante grazie alla posizione di suo padre come comandante della fortezza di Reggio. La famiglia si trasferì poi a Ferrara, dove Ludovico trascorse gran parte della sua vita.\n",
        "\n",
        "La formazione di Ariosto fu dapprima legale, come desiderato dal padre, ma ben presto si orientò verso gli studi umanistici. Studiò sotto il reggente della Scuola d'Este, Gregorio da Spoleto, che gli insegnò greco e latino e gli trasmise l'amore per la letteratura classica. Durante gli anni universitari, Ariosto iniziò a scrivere poesie, influenzato dai lavori di poeti come Virgilio e Ovidio.\n",
        "\n",
        "Dopo l'università, Ariosto entrò al servizio della corte degli Este a Ferrara, dove rimase per la maggior parte della sua vita lavorativa. Qui, iniziò la sua carriera come diplomatico e poi come capitano della fortezza di Canossa. Durante questo periodo, si dedicò anche alla scrittura e al teatro, producendo commedie che rispecchiavano lo stile e l'umorismo della commedia classica latina e delle opere di Plauto.\n",
        "\n",
        "La sua opera più celebre, \"Orlando Furioso\", fu pubblicata per la prima volta nel 1516. Il poema è un ampliamento del lavoro iniziato da Matteo Maria Boiardo con \"Orlando Innamorato\". \"Orlando Furioso\" mescola elementi romantici, avventurosi e fantastici, raccontando le storie di numerosi cavalieri, dame, maghi e mostri, con un intreccio che si snoda attraverso vari continenti e sfide eroiche. La narrativa complessa e l'uso di una lingua ricca e variegata fecero di questo poema un capolavoro del Rinascimento e un modello per la letteratura epica successiva.\n",
        "\n",
        "Ariosto rivedette \"Orlando Furioso\" due volte, pubblicando edizioni rinnovate nel 1521 e nel 1532, quest'ultima solo un anno prima della sua morte avvenuta il 6 luglio 1533 a Ferrara. Oltre a essere un epico poeta, Ariosto fu anche un abile amministratore e funzionario, incarichi che gli furono spesso gravosi ma che svolse con dedizione.\n",
        "\n",
        "La vita di Ludovico Ariosto fu segnata dall'equilibrio tra le sue responsabilità alla corte degli Este e il suo impegno letterario. Nonostante le pressioni e le sfide della vita di corte, riuscì a creare opere che hanno lasciato un segno indelebile nella letteratura italiana e mondiale. La sua abilità nel tessere trame complesse, il suo uso magistrale della lingua e la sua profonda comprensione della natura umana lo rendono una figura di spicco del suo tempo.\n",
        "\"\"\"\n",
        "\n",
        "\n",
        "messaggio_user = \"Fammi un riassunto in 50 parole\"    # oppure \"in quali anni rivise la sua opera?\"\n",
        "\n",
        "\n",
        "response = client.chat.completions.create(\n",
        "    messages = [\n",
        "\n",
        "        {\"role\" : \"system\", \"content\" : messaggio_system},\n",
        "        {\"role\" : \"system\", \"content\" : messaggio_system2},\n",
        "        {\"role\": \"user\", \"content\": messaggio_user}\n",
        "    ],\n",
        "    model = \"gpt-3.5-turbo\",\n",
        "    temperature = 1\n",
        ")\n",
        "\n",
        "print(response.choices[0].message.content)"
      ]
    },
    {
      "cell_type": "markdown",
      "metadata": {
        "id": "cz-G78Udubhy"
      },
      "source": [
        "### Ora uniamo le due parti viste fin'ora.\n",
        "\n",
        "Uniamo la funzione esito_ricerca che fa la ricerca sul vectorStore e la posizioniamo in modo che popoli il secondo messaggio system (messaggio_system2), facendo la ricerca sul contenuto della domanda dell'utente (messaggio_user).\n",
        "\n",
        "Modifichiamo anche il messaggio_system1 per ragguagliare il modello sulla tipologia di dati che"
      ]
    },
    {
      "cell_type": "code",
      "execution_count": null,
      "metadata": {
        "id": "3Zgko66xubhy",
        "outputId": "06055f11-1ab5-4d75-9800-c82f505f7147"
      },
      "outputs": [
        {
          "name": "stdout",
          "output_type": "stream",
          "text": [
            "Sì, offriamo una soluzione avanzata per la gestione delle frodi chiamata \"Fraud Management 100\". Questa soluzione utilizza tecnologie come Machine Learning e Big Data per fornire protezione proattiva e in tempo reale contro le frodi. I principali componenti della nostra soluzione includono \"Fraud Protect\", \"Sanction Screening\", \"SCA Exemption\" e \"3D Secure\". Questi strumenti aiutano a monitorare le transazioni sospette, verificare contro liste di sanzioni, ottimizzare l'Autenticazione Forte del Cliente e migliorare la sicurezza delle transazioni e-commerce. Clienti come Poste Italiane, ICCREA, Monte dei Paschi di Siena e Nexi si affidano a noi per una difesa robusta contro le frodi, proteggendo la loro reputazione e fiducia.\n"
          ]
        }
      ],
      "source": [
        "messaggio_system = \"Sei un chatbot aziendale che deve rispodnere a delle domande. Ti passerò la documentazione aziendale collegata alle domande\"\n",
        "\n",
        "messaggio_user = \"avete un sofrtware antifrode?\"    # oppure \"in quali anni rivise la sua opera?\"\n",
        "\n",
        "messaggio_system2 = esito_ricerca(messaggio_user)\n",
        "\n",
        "response = client.chat.completions.create(\n",
        "    messages = [\n",
        "        {\"role\" : \"system\", \"content\" : messaggio_system},\n",
        "        {\"role\" : \"system\", \"content\" : messaggio_system2},\n",
        "        {\"role\": \"user\", \"content\": messaggio_user}\n",
        "    ],\n",
        "    model = \"gpt-3.5-turbo\",\n",
        "    temperature = 1\n",
        ")\n",
        "\n",
        "print(response.choices[0].message.content)"
      ]
    },
    {
      "cell_type": "code",
      "execution_count": null,
      "metadata": {
        "id": "h_br-g4Aubhy"
      },
      "outputs": [],
      "source": []
    }
  ],
  "metadata": {
    "kernelspec": {
      "display_name": "payint",
      "language": "python",
      "name": "python3"
    },
    "language_info": {
      "codemirror_mode": {
        "name": "ipython",
        "version": 3
      },
      "file_extension": ".py",
      "mimetype": "text/x-python",
      "name": "python",
      "nbconvert_exporter": "python",
      "pygments_lexer": "ipython3",
      "version": "3.10.12"
    },
    "colab": {
      "provenance": [],
      "include_colab_link": true
    }
  },
  "nbformat": 4,
  "nbformat_minor": 0
}
{
 "cells": [
  {
   "cell_type": "markdown",
   "metadata": {},
   "source": [
    "# Guida base agli OpenAI Assistants\n",
    "\n",
    "Questa guida nasce per rimediare alla dispersività e alla poca chiarezza della documentazione di OpenAI relativamente agli assistants.  \n",
    "In questo notebook vedremo come creare una base di conoscenza (da qui in poi chiamata col suo nome tecnico \"vectorstore\"), come creare un Assistant che sia \"istruito\" su tale vectorstore, e come utilizzarlo per generare le risposte alle domande inserite dall'utente.  \n",
    "\n",
    "Questa è una guida di livello base. Argomenti più avanzati come le annnotazioni, l'invio di allegati nei thread, e lo streaming delle risposte in tempo reale verranno affrontati in un'altra guida.\n",
    "\n",
    "Potete consultare qua i comandi. Se volete scaricare il notebook ed eseguirlo, dovrete dotarvi di una chiave api di OpenAI, e inserirla come stringa qua sotto, in questo modo:\n",
    "```python\n",
    "client = OpenAI(api_key=\"vostra_chiave_api\")\n",
    "```\n",
    "\n",
    "Altrimenti, lasciate il notebook com'è. Tutti gli output sono reali.  \n",
    "  \n",
    "Iniziamo con gli import!\n"
   ]
  },
  {
   "cell_type": "code",
   "execution_count": 60,
   "metadata": {},
   "outputs": [],
   "source": [
    "from openai import OpenAI\n",
    "from dotenv import load_dotenv\n",
    "import os\n",
    "load_dotenv(\n",
    "    \"../.env\"\n",
    ")\n",
    "client = OpenAI(api_key=os.getenv(\"OPENAI_KEY\"))"
   ]
  },
  {
   "cell_type": "markdown",
   "metadata": {},
   "source": [
    "## Creo un Vectorstore\n",
    "Per prima cosa, si crea un vectorstore vuoto. Basta specificare un nome.  \n",
    "Una volta ultimata la creazione del vectorstore vuoto, la variabile con cui viene istanziato conterrà (tra gli altri) l'attributo \"id\".  \n",
    "Questo id sarà il riferimento unico del nostro vectorstore.\n"
   ]
  },
  {
   "cell_type": "code",
   "execution_count": 61,
   "metadata": {},
   "outputs": [
    {
     "data": {
      "text/plain": [
       "'vs_UKtxQKYr1UrsiYG3jw80dFqm'"
      ]
     },
     "execution_count": 61,
     "metadata": {},
     "output_type": "execute_result"
    }
   ],
   "source": [
    "vs_name = \"Vectorstore_prova_notebook\"\n",
    "vector_store = client.beta.vector_stores.create(name=vs_name)\n",
    "\n",
    "vector_store.id"
   ]
  },
  {
   "cell_type": "markdown",
   "metadata": {},
   "source": [
    "## Aggiunta di un file al VectorStore\n",
    "\n",
    "Questo è il modo in cui si aggiunge un file ad un vectorstore. Nota: deve essere uno stream, come testimonia l'uso di open.  \n",
    "Utilizzo il file stream per caricare il file su OpenAI. L'upload del file su OpenAI (comando client.files.create), una volta concluso, popola l'oggetto istanziato con l'attributo file.id.  \n",
    "\n",
    "A questo punto possiamo utilizzare il file.id appena creato e usare il comando client.beta.vector_stores.file.create per caricare l'id di un file sull'id di un vectorstore.  \n",
    "\n",
    "Per questa prova utilizzo il vector_store.id delle celle passate."
   ]
  },
  {
   "cell_type": "code",
   "execution_count": 62,
   "metadata": {},
   "outputs": [
    {
     "data": {
      "text/plain": [
       "VectorStoreFile(id='file-mROUT2wVRLeRNtZkNlOQ746r', created_at=1717577829, last_error=None, object='vector_store.file', status='in_progress', usage_bytes=0, vector_store_id='vs_UKtxQKYr1UrsiYG3jw80dFqm', chunking_strategy={'type': 'static', 'static': {'max_chunk_size_tokens': 800, 'chunk_overlap_tokens': 400}})"
      ]
     },
     "execution_count": 62,
     "metadata": {},
     "output_type": "execute_result"
    }
   ],
   "source": [
    "local_path = r\"C:\\Users\\moglial\\Downloads\\OpenAI's Trust Center documentation\\OpenAI API_ChatGPT 2023 SOC 2 Type 2 Report.pdf\"\n",
    "with open(local_path, \"rb\") as file_stream:\n",
    "            file = client.files.create(\n",
    "                file=file_stream,\n",
    "                purpose=\"assistants\"\n",
    "                )\n",
    "# aggiungo il file al vectorstore\n",
    "client.beta.vector_stores.files.create(\n",
    "    vector_store_id=vector_store.id,\n",
    "    file_id=file.id\n",
    ")"
   ]
  },
  {
   "cell_type": "markdown",
   "metadata": {},
   "source": [
    "## Stampiamo una lista dei vectorstores esistenti.\n",
    "\n",
    "Possiamo stampare una lista dei vs presenti sul progetto che stiamo utilizzando. Il progetto è determinato dalla chiave api che stiamo utilizzanfo quando istanziamo il client di openai"
   ]
  },
  {
   "cell_type": "code",
   "execution_count": 63,
   "metadata": {},
   "outputs": [
    {
     "name": "stdout",
     "output_type": "stream",
     "text": [
      "SyncCursorPage[VectorStore](data=[VectorStore(id='vs_UKtxQKYr1UrsiYG3jw80dFqm', created_at=1717577827, file_counts=FileCounts(cancelled=0, completed=1, failed=0, in_progress=0, total=1), last_active_at=1717577829, metadata={}, name='Vectorstore_prova_notebook', object='vector_store', status='completed', usage_bytes=216776, expires_after=None, expires_at=None), VectorStore(id='vs_9Fss20NPVQgCdN2vhKR69Obp', created_at=1717513095, file_counts=FileCounts(cancelled=0, completed=4, failed=0, in_progress=0, total=4), last_active_at=1717516660, metadata={}, name='sicurezza informatica', object='vector_store', status='completed', usage_bytes=1920643, expires_after=None, expires_at=None), VectorStore(id='vs_ximj63NaqSEfYdtrgNOztj3S', created_at=1717505253, file_counts=FileCounts(cancelled=0, completed=9, failed=0, in_progress=0, total=9), last_active_at=1717512217, metadata={}, name='DOCUMENTAZIONE OPENAI', object='vector_store', status='completed', usage_bytes=704132, expires_after=None, expires_at=None), VectorStore(id='vs_PEVRD3Ov2ATNw9iS2k0teFd9', created_at=1715847488, file_counts=FileCounts(cancelled=0, completed=5, failed=0, in_progress=0, total=5), last_active_at=1717512576, metadata={}, name='IVIC_DOC2.0', object='vector_store', status='completed', usage_bytes=87880, expires_after=None, expires_at=None)], object='list', first_id='vs_UKtxQKYr1UrsiYG3jw80dFqm', last_id='vs_PEVRD3Ov2ATNw9iS2k0teFd9', has_more=False)\n"
     ]
    }
   ],
   "source": [
    "vector_stores = client.beta.vector_stores.list()\n",
    "print(vector_stores)"
   ]
  },
  {
   "cell_type": "markdown",
   "metadata": {},
   "source": [
    "I vectorsotres sono racchiusi in un oggetto SyncCursorPage. Questo oggetto è un po' menoso da utilizzare, ma è un iterabile. Questo significa che possiamo usarlo per un ciclo for, oppure (come nel nostro caso) per trasformarlo in una lista utilizzando la hotkey list().\n",
    "\n",
    "Osserviamo che ciasun oggetto VectorStore ha un id, il timestamp in secondi di quando è stato creato, il filecount, l'ultimo accesso, eventuali metadati che possiamo definire noi, e il nome. Sono anche presenti alcuni parametri di policy come usage_bytes , expires_after (auto-eliminazione dei files dopo un certo periodo di non utilizzo), expires_at (per l'eliminazione schedulata di un VS)\n",
    "\n",
    "Ricordiamoci che lo storage dei vectorstores costa 0.10$ al giorno per GB per i GB dopo il primo che è gratis. "
   ]
  },
  {
   "cell_type": "code",
   "execution_count": 64,
   "metadata": {},
   "outputs": [
    {
     "data": {
      "text/plain": [
       "[VectorStore(id='vs_UKtxQKYr1UrsiYG3jw80dFqm', created_at=1717577827, file_counts=FileCounts(cancelled=0, completed=1, failed=0, in_progress=0, total=1), last_active_at=1717577829, metadata={}, name='Vectorstore_prova_notebook', object='vector_store', status='completed', usage_bytes=216776, expires_after=None, expires_at=None),\n",
       " VectorStore(id='vs_9Fss20NPVQgCdN2vhKR69Obp', created_at=1717513095, file_counts=FileCounts(cancelled=0, completed=4, failed=0, in_progress=0, total=4), last_active_at=1717516660, metadata={}, name='sicurezza informatica', object='vector_store', status='completed', usage_bytes=1920643, expires_after=None, expires_at=None),\n",
       " VectorStore(id='vs_ximj63NaqSEfYdtrgNOztj3S', created_at=1717505253, file_counts=FileCounts(cancelled=0, completed=9, failed=0, in_progress=0, total=9), last_active_at=1717512217, metadata={}, name='DOCUMENTAZIONE OPENAI', object='vector_store', status='completed', usage_bytes=704132, expires_after=None, expires_at=None),\n",
       " VectorStore(id='vs_PEVRD3Ov2ATNw9iS2k0teFd9', created_at=1715847488, file_counts=FileCounts(cancelled=0, completed=5, failed=0, in_progress=0, total=5), last_active_at=1717512576, metadata={}, name='IVIC_DOC2.0', object='vector_store', status='completed', usage_bytes=87880, expires_after=None, expires_at=None)]"
      ]
     },
     "execution_count": 64,
     "metadata": {},
     "output_type": "execute_result"
    }
   ],
   "source": [
    "vector_stores_list = list(vector_stores)\n",
    "vector_stores_list"
   ]
  },
  {
   "cell_type": "markdown",
   "metadata": {},
   "source": [
    "## Creazione di un assistant\n",
    "\n",
    "Un assistant è l'entità che si occuperà di generare le risposte sulla base della documentazione fornita nel vectorstore.  \n",
    "Quando creiamo un assistente, istanziamo un oggetto assistant con \n",
    "\n",
    "```python\n",
    "assistente = client.beta.assistants.create(\n",
    "            instructions = # Il prompt dell'assistente. Nel nostro caso potrebbe essere qualcosa come \"Sei una AI che deve rispondere a delle domande su della documentazione in maniera esaustiva e professionale\",  \n",
    "            name = # Il nome che vogliamo dare all'assistant. Questo ci servirà per avere un livello di identificazione più umano rispetto al solo assisitente.id,  \n",
    "            tools = # Qua dobbiamo mettere una lista dei tools di cui vogliamo dotare l'assistant. Per ora ne sono previsti 3 : file_search (quello che utilizzeremo), code_interpreter e function_calling. La sintassi è: [{\"type\":\"file_search\"}, {\"type\":\"code_interpreter\"}, ... ]  \n",
    "            model = # Il modello che vogliamo avere come motore dell'assistant. Consiglio di utilizzare gpt-3.5-turbo (veloce e economico) oppure gpt-4o (più economico di gpt-4, ma più veloce)  \n",
    ")"
   ]
  },
  {
   "cell_type": "code",
   "execution_count": 65,
   "metadata": {},
   "outputs": [],
   "source": [
    "new_assistant = client.beta.assistants.create(\n",
    "                instructions=\"Sei un helper aziendale e devi aiutare a rispondere a delle domande basate sulla documentazione che ti è stata fornita.\",\n",
    "                name=\"Assistente di prova\",\n",
    "                tools=[{\"type\": \"file_search\"}],\n",
    "                model=\"gpt-4o\",\n",
    "            )"
   ]
  },
  {
   "cell_type": "markdown",
   "metadata": {},
   "source": [
    "Ora che abbiamo creato il nostro asisstente e lo abbiamo dotato della \"capacità\" di leggere i files, dobbiamo associarlo ad un vectorstore.  \n",
    "Per farlo utilizziamo il metodo update dell'assistente nell'sdk\n",
    "\n",
    "```python\n",
    "client.beta.assistants.update(\n",
    "            assistant_id= # qua mettiamo l'id dell'assistente creato prima,\n",
    "            tool_resources={\"file_search\": {\"vector_store_ids\": [vectorstore_id]}},\n",
    ")"
   ]
  },
  {
   "cell_type": "code",
   "execution_count": 66,
   "metadata": {},
   "outputs": [
    {
     "data": {
      "text/plain": [
       "Assistant(id='asst_8uRdsDDTqiO4TWVEmtFkz7m9', created_at=1717577838, description=None, instructions='Sei un helper aziendale e devi aiutare a rispondere a delle domande basate sulla documentazione che ti è stata fornita.', metadata={}, model='gpt-4o', name='Assistente di prova', object='assistant', tools=[FileSearchTool(type='file_search')], response_format='auto', temperature=1.0, tool_resources=ToolResources(code_interpreter=None, file_search=ToolResourcesFileSearch(vector_store_ids=['vs_UKtxQKYr1UrsiYG3jw80dFqm'])), top_p=1.0)"
      ]
     },
     "execution_count": 66,
     "metadata": {},
     "output_type": "execute_result"
    }
   ],
   "source": [
    "client.beta.assistants.update(\n",
    "            assistant_id=new_assistant.id,\n",
    "            tool_resources={\"file_search\": {\"vector_store_ids\": [vector_store.id]}},\n",
    ")"
   ]
  },
  {
   "cell_type": "markdown",
   "metadata": {},
   "source": [
    "Ora, il nostro Assistant sarà dotato della conoscenza sul documento che gli abbiamo passato. Passiamo ora alla gestione delle conversazioni.\n",
    "\n",
    "# Gestione delle conversazioni"
   ]
  },
  {
   "cell_type": "markdown",
   "metadata": {},
   "source": [
    "## Creazione di un thread\n",
    "\n",
    "Un thread è un oggetto di openai che funge da contenitore per i vari messaggi.  \n",
    " Quando diciamo a openai di crearne uno, lo facciamo istanziando un oggetto thread.  \n",
    " Questo oggetto (nell'esempio qua sotto chiamato \"primo_thread\") dopo l'esecuzione della riga, avrà un attributo primo_thread.id, che conterrà l'id del thread all'interno di openai.\n",
    "\n"
   ]
  },
  {
   "cell_type": "code",
   "execution_count": 67,
   "metadata": {},
   "outputs": [
    {
     "data": {
      "text/plain": [
       "'thread_E0IjH8YGjzIZQbcFC8MtkAWI'"
      ]
     },
     "execution_count": 67,
     "metadata": {},
     "output_type": "execute_result"
    }
   ],
   "source": [
    "primo_thread = client.beta.threads.create()\n",
    "primo_thread.id"
   ]
  },
  {
   "cell_type": "markdown",
   "metadata": {},
   "source": [
    "## Messaggi\n",
    "\n",
    "I messaggi sono l'unità fondamentale con cui funzionano gli assistants, e più in generale i modelli chat di AI. I messaggi possono avere ruoli diversi, ma quelli fondamentali sono due:\n",
    "- User: Messaggio dell'utente.\n",
    "- Assistant: Messagio dell'assistente. Quest messaggi vanno passati al modello quando l'interazione va oltre il primo scambio di domanda e risposta. In questo modo il modello saprà il contenuto delle sue risposte precedenti e sarà in grado di proseguire il discorso senza ripetersi.\n",
    "\n",
    "Esistono anche altri ruoli (ad esempio \"function\") ma non ci interessano attualmente in quanto riguardano funzionalità molto specifiche e che non ci servono in queste sede.\n",
    "\n",
    "Quando creo un messaggio con OpenAI Assistants, devo istanziare un oggetto message specificando anche il thread di cui farà parte il messaggio che stiamo creando."
   ]
  },
  {
   "cell_type": "code",
   "execution_count": 68,
   "metadata": {},
   "outputs": [
    {
     "data": {
      "text/plain": [
       "Message(id='msg_fSzYucdimpYclRieD2TIJMO4', assistant_id=None, attachments=[], completed_at=None, content=[TextContentBlock(text=Text(annotations=[], value='Come avviene il monitoraggio degli output?'), type='text')], created_at=1717577839, incomplete_at=None, incomplete_details=None, metadata={}, object='thread.message', role='user', run_id=None, status=None, thread_id='thread_E0IjH8YGjzIZQbcFC8MtkAWI')"
      ]
     },
     "execution_count": 68,
     "metadata": {},
     "output_type": "execute_result"
    }
   ],
   "source": [
    "client.beta.threads.messages.create(\n",
    "                thread_id=primo_thread.id,                          # thread vuoto creato in precedenza\n",
    "                role=\"user\",                                        # specifichiamo il ruolo user SEMPRE\n",
    "                content=\"Come avviene il monitoraggio degli output?\"   # contenuto della domanda\n",
    "            )"
   ]
  },
  {
   "cell_type": "markdown",
   "metadata": {},
   "source": [
    "Openai ci dà la possibilità di scaricare la lista dei messaggi con il comando list messages. Questo ci consente di avere una \"fotografia\" del thread in un certo istante.\n",
    "L'oggetto che si scarica con il comando list message è un oggetto iterabile che racchiude tanti oggetti message.\n",
    "\n",
    "Gli oggetti message hanno questo body: (https://platform.openai.com/docs/api-reference/messages/createMessage)\n",
    "\n",
    "ATTENZIONE: se utilizziamo l'sdk di openai (come nei nostri esempi) non sarà un json fatto di chiavi e valori, ma le chiavi saranno attributi dell'oggetto message che abbiamo creato.\n",
    "```json\n",
    "{\n",
    "  \"id\": \"msg_abc123\",\n",
    "  \"object\": \"thread.message\",\n",
    "  \"created_at\": 1713226573,\n",
    "  \"assistant_id\": null,\n",
    "  \"thread_id\": \"thread_abc123\",\n",
    "  \"run_id\": null,\n",
    "  \"role\": \"user\",\n",
    "  \"content\": [\n",
    "    {\n",
    "      \"type\": \"text\",\n",
    "      \"text\": {\n",
    "        \"value\": \"How does AI work? Explain it in simple terms.\",\n",
    "        \"annotations\": []\n",
    "      }\n",
    "    }\n",
    "  ],\n",
    "  \"attachments\": [],\n",
    "  \"metadata\": {}\n",
    "}\n",
    "\n",
    "```"
   ]
  },
  {
   "cell_type": "code",
   "execution_count": 69,
   "metadata": {},
   "outputs": [
    {
     "data": {
      "text/plain": [
       "SyncCursorPage[Message](data=[Message(id='msg_fSzYucdimpYclRieD2TIJMO4', assistant_id=None, attachments=[], completed_at=None, content=[TextContentBlock(text=Text(annotations=[], value='Come avviene il monitoraggio degli output?'), type='text')], created_at=1717577839, incomplete_at=None, incomplete_details=None, metadata={}, object='thread.message', role='user', run_id=None, status=None, thread_id='thread_E0IjH8YGjzIZQbcFC8MtkAWI')], object='list', first_id='msg_fSzYucdimpYclRieD2TIJMO4', last_id='msg_fSzYucdimpYclRieD2TIJMO4', has_more=False)"
      ]
     },
     "execution_count": 69,
     "metadata": {},
     "output_type": "execute_result"
    }
   ],
   "source": [
    "messages = client.beta.threads.messages.list(\n",
    "    thread_id=primo_thread.id\n",
    "  )\n",
    "messages"
   ]
  },
  {
   "cell_type": "markdown",
   "metadata": {},
   "source": [
    "L'oggetto SyncCursorPage[message] è un po' complesso, ma è pur sempre un iterabile. Per questo motivo possiamo trasformarlo in una lista usando la hotkey di python list().  \n",
    "In questo modo otterremo una lista di elementi Message (che hanno la forma che segue il payload sopra.)"
   ]
  },
  {
   "cell_type": "code",
   "execution_count": 70,
   "metadata": {},
   "outputs": [
    {
     "data": {
      "text/plain": [
       "'Come avviene il monitoraggio degli output?'"
      ]
     },
     "execution_count": 70,
     "metadata": {},
     "output_type": "execute_result"
    }
   ],
   "source": [
    "messages_list = list(messages)\n",
    "messages_list[0].content[0].text.value"
   ]
  },
  {
   "cell_type": "markdown",
   "metadata": {},
   "source": [
    "## Run!\n",
    "\n",
    "Il run è l'operazione attraverso cui creiamo le risposte del nostro assistente.  \n",
    "Per eseguire un run abbiamo bisogno di un thread e di un assistente che generi la risposta.  \n",
    "Come si può intuire, và eseguito quando l'ultimo messaggio della message list del thread è di tipo user."
   ]
  },
  {
   "cell_type": "code",
   "execution_count": 71,
   "metadata": {},
   "outputs": [
    {
     "data": {
      "text/plain": [
       "Run(id='run_kYYocxN6NcOEDuy52OiP0d3n', assistant_id='asst_8uRdsDDTqiO4TWVEmtFkz7m9', cancelled_at=None, completed_at=1717577855, created_at=1717577840, expires_at=None, failed_at=None, incomplete_details=None, instructions='Sei un helper aziendale e devi aiutare a rispondere a delle domande basate sulla documentazione che ti è stata fornita.', last_error=None, max_completion_tokens=None, max_prompt_tokens=None, metadata={}, model='gpt-4o', object='thread.run', required_action=None, response_format='auto', started_at=1717577840, status='completed', thread_id='thread_E0IjH8YGjzIZQbcFC8MtkAWI', tool_choice='auto', tools=[FileSearchTool(type='file_search')], truncation_strategy=TruncationStrategy(type='auto', last_messages=None), usage=Usage(completion_tokens=552, prompt_tokens=16917, total_tokens=17469), temperature=1.0, top_p=1.0, tool_resources={})"
      ]
     },
     "execution_count": 71,
     "metadata": {},
     "output_type": "execute_result"
    }
   ],
   "source": [
    "client.beta.threads.runs.create_and_poll(\n",
    "                thread_id=primo_thread.id,          # id del thread creato in precedenza\n",
    "                assistant_id=new_assistant.id       # id dell'assistente con file search creato in precedenza\n",
    ")  "
   ]
  },
  {
   "cell_type": "markdown",
   "metadata": {},
   "source": [
    "Se scarichiamo nuovamente la lista dei messaggi, vedremo che c'è un nuovo elemento:"
   ]
  },
  {
   "cell_type": "code",
   "execution_count": 72,
   "metadata": {},
   "outputs": [
    {
     "name": "stdout",
     "output_type": "stream",
     "text": [
      "Message(id='msg_8IOn6BAr2MZrmy6UdYu0T5qy', assistant_id='asst_8uRdsDDTqiO4TWVEmtFkz7m9', attachments=[], completed_at=None, content=[TextContentBlock(text=Text(annotations=[FileCitationAnnotation(end_index=369, file_citation=FileCitation(file_id='file-mROUT2wVRLeRNtZkNlOQ746r', quote=None), start_index=357, text='【4:0†source】', type='file_citation'), FileCitationAnnotation(end_index=382, file_citation=FileCitation(file_id='file-mROUT2wVRLeRNtZkNlOQ746r', quote=None), start_index=369, text='【4:16†source】', type='file_citation'), FileCitationAnnotation(end_index=663, file_citation=FileCitation(file_id='file-mROUT2wVRLeRNtZkNlOQ746r', quote=None), start_index=651, text='【4:0†source】', type='file_citation'), FileCitationAnnotation(end_index=676, file_citation=FileCitation(file_id='file-mROUT2wVRLeRNtZkNlOQ746r', quote=None), start_index=663, text='【4:19†source】', type='file_citation'), FileCitationAnnotation(end_index=894, file_citation=FileCitation(file_id='file-mROUT2wVRLeRNtZkNlOQ746r', quote=None), start_index=882, text='【4:0†source】', type='file_citation'), FileCitationAnnotation(end_index=1137, file_citation=FileCitation(file_id='file-mROUT2wVRLeRNtZkNlOQ746r', quote=None), start_index=1125, text='【4:0†source】', type='file_citation'), FileCitationAnnotation(end_index=1150, file_citation=FileCitation(file_id='file-mROUT2wVRLeRNtZkNlOQ746r', quote=None), start_index=1137, text='【4:15†source】', type='file_citation'), FileCitationAnnotation(end_index=1378, file_citation=FileCitation(file_id='file-mROUT2wVRLeRNtZkNlOQ746r', quote=None), start_index=1366, text='【4:0†source】', type='file_citation'), FileCitationAnnotation(end_index=1391, file_citation=FileCitation(file_id='file-mROUT2wVRLeRNtZkNlOQ746r', quote=None), start_index=1378, text='【4:15†source】', type='file_citation'), FileCitationAnnotation(end_index=1615, file_citation=FileCitation(file_id='file-mROUT2wVRLeRNtZkNlOQ746r', quote=None), start_index=1603, text='【4:0†source】', type='file_citation'), FileCitationAnnotation(end_index=1892, file_citation=FileCitation(file_id='file-mROUT2wVRLeRNtZkNlOQ746r', quote=None), start_index=1880, text='【4:1†source】', type='file_citation')], value=\"Il monitoraggio degli output avviene attraverso diverse misure di controllo implementate dall'organizzazione. Ecco i principali passaggi e strumenti utilizzati:\\n\\n1. **Sistema di Rilevamento delle Intrusioni (IDS)**: L'organizzazione utilizza un IDS per monitorare continuamente la rete aziendale e rilevare precocemente potenziali violazioni della sicurezza【4:0†source】【4:16†source】.\\n\\n2. **Strumento di Gestione dei Log**: Questo strumento aiuta a identificare eventi che possono aver un impatto sugli obiettivi di sicurezza dell'azienda. I log includono informazioni come l'indirizzo IP di origine e destinazione, il tipo di protocollo e il timestamp【4:0†source】【4:19†source】.\\n\\n3. **Strumento di Monitoraggio dell'Infrastruttura**: Viene utilizzato per monitorare i sistemi, l'infrastruttura e le prestazioni. Lo strumento genera allarmi quando vengono raggiunte soglie predefinite【4:0†source】.\\n\\n4. **Scansioni di Vulnerabilità**: Le scansioni di vulnerabilità vengono eseguite continuamente sui sistemi che sono esposti esternamente. Le vulnerabilità critiche e ad alto rischio vengono monitorate fino alla loro risoluzione【4:0†source】【4:15†source】.\\n\\n5. **Test di Penetrazione Annuali**: L'organizzazione effettua test di penetrazione almeno una volta all'anno. Viene sviluppato un piano di rimedio e implementate modifiche per correggere le vulnerabilità rilevate【4:0†source】【4:15†source】.\\n\\n6. **Piano di Gestione delle Vulnerabilità**: Include la gestione delle configurazioni per garantire che le configurazioni del sistema siano distribuite in modo coerente in tutto l'ambiente dell'organizzazione【4:0†source】.\\n\\n7. **Registrazione e Monitoraggio dei Sistemi**: La politica di sicurezza operativa dell'organizzazione descrive le procedure relative alla registrazione e al monitoraggio della rete e dei sistemi, nonché all'identificazione e alla correzione delle vulnerabilità【4:1†source】.\\n\\nQuesti controlli assicurano che i componenti del sistema vengano monitorati e che eventuali anomalie indicative di atti dannosi, disastri naturali o errori che potrebbero influenzare la capacità dell'organizzazione di raggiungere i propri obiettivi vengano analizzate e gestite adeguatamente.\"), type='text')], created_at=1717577843, incomplete_at=None, incomplete_details=None, metadata={}, object='thread.message', role='assistant', run_id='run_kYYocxN6NcOEDuy52OiP0d3n', status=None, thread_id='thread_E0IjH8YGjzIZQbcFC8MtkAWI')\n",
      "Message(id='msg_fSzYucdimpYclRieD2TIJMO4', assistant_id=None, attachments=[], completed_at=None, content=[TextContentBlock(text=Text(annotations=[], value='Come avviene il monitoraggio degli output?'), type='text')], created_at=1717577839, incomplete_at=None, incomplete_details=None, metadata={}, object='thread.message', role='user', run_id=None, status=None, thread_id='thread_E0IjH8YGjzIZQbcFC8MtkAWI')\n"
     ]
    }
   ],
   "source": [
    "messages = client.beta.threads.messages.list(\n",
    "    thread_id=primo_thread.id\n",
    "  )\n",
    "\n",
    "for m in messages:\n",
    "    print(m)"
   ]
  },
  {
   "cell_type": "markdown",
   "metadata": {},
   "source": [
    "Questo nuovo elemento sarà la nostra risposta:  \n",
    "PS: con list_messages, i messaggi della lista sono ordinati dal più recente al meno recente"
   ]
  },
  {
   "cell_type": "code",
   "execution_count": 73,
   "metadata": {},
   "outputs": [
    {
     "data": {
      "text/plain": [
       "\"Il monitoraggio degli output avviene attraverso diverse misure di controllo implementate dall'organizzazione. Ecco i principali passaggi e strumenti utilizzati:\\n\\n1. **Sistema di Rilevamento delle Intrusioni (IDS)**: L'organizzazione utilizza un IDS per monitorare continuamente la rete aziendale e rilevare precocemente potenziali violazioni della sicurezza【4:0†source】【4:16†source】.\\n\\n2. **Strumento di Gestione dei Log**: Questo strumento aiuta a identificare eventi che possono aver un impatto sugli obiettivi di sicurezza dell'azienda. I log includono informazioni come l'indirizzo IP di origine e destinazione, il tipo di protocollo e il timestamp【4:0†source】【4:19†source】.\\n\\n3. **Strumento di Monitoraggio dell'Infrastruttura**: Viene utilizzato per monitorare i sistemi, l'infrastruttura e le prestazioni. Lo strumento genera allarmi quando vengono raggiunte soglie predefinite【4:0†source】.\\n\\n4. **Scansioni di Vulnerabilità**: Le scansioni di vulnerabilità vengono eseguite continuamente sui sistemi che sono esposti esternamente. Le vulnerabilità critiche e ad alto rischio vengono monitorate fino alla loro risoluzione【4:0†source】【4:15†source】.\\n\\n5. **Test di Penetrazione Annuali**: L'organizzazione effettua test di penetrazione almeno una volta all'anno. Viene sviluppato un piano di rimedio e implementate modifiche per correggere le vulnerabilità rilevate【4:0†source】【4:15†source】.\\n\\n6. **Piano di Gestione delle Vulnerabilità**: Include la gestione delle configurazioni per garantire che le configurazioni del sistema siano distribuite in modo coerente in tutto l'ambiente dell'organizzazione【4:0†source】.\\n\\n7. **Registrazione e Monitoraggio dei Sistemi**: La politica di sicurezza operativa dell'organizzazione descrive le procedure relative alla registrazione e al monitoraggio della rete e dei sistemi, nonché all'identificazione e alla correzione delle vulnerabilità【4:1†source】.\\n\\nQuesti controlli assicurano che i componenti del sistema vengano monitorati e che eventuali anomalie indicative di atti dannosi, disastri naturali o errori che potrebbero influenzare la capacità dell'organizzazione di raggiungere i propri obiettivi vengano analizzate e gestite adeguatamente.\""
      ]
     },
     "execution_count": 73,
     "metadata": {},
     "output_type": "execute_result"
    }
   ],
   "source": [
    "messages_list = list(messages)\n",
    "messages_list[0].content[0].text.value"
   ]
  },
  {
   "cell_type": "markdown",
   "metadata": {},
   "source": [
    "## Eliminazioni\n",
    "\n",
    "Ricopre una grande importanza l'eliminazione delle risorse. Vediamo ora i vari comandi utilizzati per eliminare un thread, un assistente e un vectorstore.  \n",
    "I response associati all'operazione ci danno conferma dell'esito positivo dell'eliminazione.  "
   ]
  },
  {
   "cell_type": "code",
   "execution_count": 74,
   "metadata": {},
   "outputs": [
    {
     "name": "stdout",
     "output_type": "stream",
     "text": [
      "ThreadDeleted(id='thread_E0IjH8YGjzIZQbcFC8MtkAWI', deleted=True, object='thread.deleted')\n",
      "AssistantDeleted(id='asst_8uRdsDDTqiO4TWVEmtFkz7m9', deleted=True, object='assistant.deleted')\n",
      "VectorStoreDeleted(id='vs_UKtxQKYr1UrsiYG3jw80dFqm', deleted=True, object='vector_store.deleted')\n"
     ]
    }
   ],
   "source": [
    "# Per eliminare un thread uso il comando:\n",
    "response_thread = client.beta.threads.delete(\n",
    "  primo_thread.id\n",
    "  )\n",
    "print(response_thread)\n",
    "# Per eliminare un Assistant uso il comando:\n",
    "response_assistant = client.beta.assistants.delete(\n",
    "  new_assistant.id\n",
    "  )\n",
    "print(response_assistant)\n",
    "# Per eliminare un vS utilizzo il comando:\n",
    "response_vs = client.beta.vector_stores.delete(\n",
    "  vector_store_id=vector_store.id\n",
    ")\n",
    "print(response_vs)"
   ]
  },
  {
   "cell_type": "code",
   "execution_count": null,
   "metadata": {},
   "outputs": [],
   "source": []
  }
 ],
 "metadata": {
  "kernelspec": {
   "display_name": ".chenv",
   "language": "python",
   "name": "python3"
  },
  "language_info": {
   "codemirror_mode": {
    "name": "ipython",
    "version": 3
   },
   "file_extension": ".py",
   "mimetype": "text/x-python",
   "name": "python",
   "nbconvert_exporter": "python",
   "pygments_lexer": "ipython3",
   "version": "3.12.3"
  }
 },
 "nbformat": 4,
 "nbformat_minor": 2
}
